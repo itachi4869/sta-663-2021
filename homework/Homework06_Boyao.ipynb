{
 "cells": [
  {
   "cell_type": "markdown",
   "metadata": {},
   "source": [
    "**1**.(20 points)\n",
    "\n",
    "Consider the following system of equations:\n",
    "\n",
    "$$\\begin{align*}\n",
    "2x_1& - x_2&    +x_x    &=& 6\\\\\n",
    "-x_1& +2x_2& -  x_3 &=& 2\\\\\n",
    " x_1   &  -x_2& + x_3 &=& 1\n",
    "\\end{align*}$$\n",
    "\n",
    "1. Consider the system in matrix form $Ax=b$ and define $A$, $b$ in numpy. (5 points)\n",
    "2. Show that $A$ is positive-definite (5 points)\n",
    "3. Use the appropriate matrix decomposition function in numpy and back-substitution to solve the system (10 points)"
   ]
  },
  {
   "cell_type": "code",
   "execution_count": 1,
   "metadata": {},
   "outputs": [],
   "source": [
    "import numpy as np\n",
    "import scipy.linalg as la\n",
    "import matplotlib.pyplot as plt\n",
    "%matplotlib inline"
   ]
  },
  {
   "cell_type": "code",
   "execution_count": 2,
   "metadata": {},
   "outputs": [
    {
     "name": "stdout",
     "output_type": "stream",
     "text": [
      "[[ 2 -1  1]\n",
      " [-1  2 -1]\n",
      " [ 1 -1  1]]\n",
      "[[6]\n",
      " [2]\n",
      " [1]]\n"
     ]
    }
   ],
   "source": [
    "A = np.array([[2,-1,1],[-1,2,-1],[1,-1,1]])\n",
    "b = np.array([6,2,1]).reshape((-1,1))\n",
    "print(A)\n",
    "print(b)"
   ]
  },
  {
   "cell_type": "code",
   "execution_count": 3,
   "metadata": {},
   "outputs": [
    {
     "data": {
      "text/plain": [
       "True"
      ]
     },
     "execution_count": 3,
     "metadata": {},
     "output_type": "execute_result"
    }
   ],
   "source": [
    "np.all(la.eigvals(A) > 0)"
   ]
  },
  {
   "cell_type": "code",
   "execution_count": 4,
   "metadata": {},
   "outputs": [
    {
     "data": {
      "text/plain": [
       "array([[ 5.],\n",
       "       [ 3.],\n",
       "       [-1.]])"
      ]
     },
     "execution_count": 4,
     "metadata": {},
     "output_type": "execute_result"
    }
   ],
   "source": [
    "p, l, u = la.lu(A)\n",
    "y = la.solve_triangular(l, b, lower = True)\n",
    "x = la.solve_triangular(u, y)\n",
    "x"
   ]
  },
  {
   "cell_type": "markdown",
   "metadata": {},
   "source": [
    "**2**. (20 points)\n",
    "\n",
    "Exact geometric solutions with $n = m$\n",
    "\n",
    "- Find the equation of the line that passes through the points (2,1) and (3,7)\n",
    "- Find the equation of the circle that passes through the points (1,7), (6,2) and (4,6)\n",
    "\n",
    "Hint: The equation of a circle can be written as\n",
    "\n",
    "$$\n",
    "(x - a)^2 + (y - b)^2 = r^2\n",
    "$$"
   ]
  },
  {
   "cell_type": "code",
   "execution_count": 5,
   "metadata": {},
   "outputs": [
    {
     "data": {
      "text/plain": [
       "(array([6.]), array([-11.]))"
      ]
     },
     "execution_count": 5,
     "metadata": {},
     "output_type": "execute_result"
    }
   ],
   "source": [
    "# solve line y = kx + b\n",
    "\n",
    "x = np.array([[2,1],[3,1]])\n",
    "y = np.array([1,7]).reshape((-1,1))\n",
    "k, b = la.solve(x,y)\n",
    "k, b"
   ]
  },
  {
   "cell_type": "markdown",
   "metadata": {},
   "source": [
    "The line is $y=6x-11$"
   ]
  },
  {
   "cell_type": "code",
   "execution_count": 6,
   "metadata": {},
   "outputs": [
    {
     "name": "stdout",
     "output_type": "stream",
     "text": [
      "center = [1. 2.]\n",
      "radius = 5.0\n"
     ]
    }
   ],
   "source": [
    "# first solve the center of circle (a, b)\n",
    "P = np.array([[1,7],[6,2],[4,6]])\n",
    "E = np.array([[1,1],[-1,0],[0,-1]])\n",
    "x = (P.T @ E).T\n",
    "y = np.sum((P**2).T @ E, 0).reshape((-1,1)) / 2\n",
    "center = la.solve(x, y).reshape(-1)\n",
    "print(\"center =\", center)\n",
    "\n",
    "# then solve r\n",
    "r = la.norm(P[0] - center)\n",
    "print(\"radius =\", r)"
   ]
  },
  {
   "cell_type": "markdown",
   "metadata": {},
   "source": [
    "The equation of the circle is $(x-1)^2+(y-2)^2=5^2$."
   ]
  },
  {
   "cell_type": "markdown",
   "metadata": {},
   "source": [
    "**3**. 20 points\n",
    "\n",
    "- Load the matrix in `Q2.npy` - this consists of two columns representing the x and y coordinates of 10 points\n",
    "- Find the equation of the circle that best fits these points\n",
    "- Plot the points and fitted circle\n",
    "\n",
    "Hint: You need to estimate the center of the circle and its radius."
   ]
  },
  {
   "cell_type": "code",
   "execution_count": 8,
   "metadata": {},
   "outputs": [
    {
     "data": {
      "text/plain": [
       "(array([ 0.00847695, -0.03091282]), 2.007072358939161)"
      ]
     },
     "execution_count": 8,
     "metadata": {},
     "output_type": "execute_result"
    }
   ],
   "source": [
    "P = np.load(\"Q2.npy\")\n",
    "n = len(P)\n",
    "E = np.r_[np.ones(n - 1).reshape(1,-1), -np.identity(n - 1)]\n",
    "x = (P.T @ E).T\n",
    "y = np.sum((P**2).T @ E, 0).reshape((-1,1)) / 2\n",
    "\n",
    "center = la.solve(x.T @ x, x.T @ y).reshape(-1)\n",
    "r = np.sqrt(np.sum((P - center)**2, 1)).mean()\n",
    "center, r"
   ]
  },
  {
   "cell_type": "code",
   "execution_count": 9,
   "metadata": {},
   "outputs": [
    {
     "data": {
      "image/png": "[encoded data removed]",
      "text/plain": [
       "<Figure size 432x288 with 1 Axes>"
      ]
     },
     "metadata": {
      "needs_background": "light"
     },
     "output_type": "display_data"
    }
   ],
   "source": [
    "circle = plt.Circle(center, r, fill = False)\n",
    "points = plt.scatter(P[:, 0], P[:, 1])\n",
    "plt.gca().add_patch(circle)\n",
    "plt.axis('equal')\n",
    "pass"
   ]
  },
  {
   "cell_type": "markdown",
   "metadata": {},
   "source": [
    "**4**. 20 points\n",
    "\n",
    "The figure below shows the current population of Durham, Chapel Hill and Raleigh. Arrows show fractions that move between cities each year.\n",
    "\n",
    "- What are the population sizes of the 3 cities after 3 years have passed?\n",
    "- Find the steady state population of the 3 cities by solving a linear system.\n",
    "\n",
    "Assume no births, deaths or any other fluxes other than those shown.\n",
    "\n",
    "![img](Q3.png)"
   ]
  },
  {
   "cell_type": "code",
   "execution_count": 2,
   "metadata": {},
   "outputs": [],
   "source": [
    "P = np.array([[0.5,0.2,0.3],[0.05,0.9,0.05],[0.2,0,0.8]]).T"
   ]
  },
  {
   "cell_type": "code",
   "execution_count": 3,
   "metadata": {},
   "outputs": [
    {
     "data": {
      "text/plain": [
       "array([[186620.],\n",
       "       [295480.],\n",
       "       [397900.]])"
      ]
     },
     "execution_count": 3,
     "metadata": {},
     "output_type": "execute_result"
    }
   ],
   "source": [
    "v0 = np.array([8e4,3e5,5e5])\n",
    "v3 = np.linalg.matrix_power(P, 3)@v0.reshape(-1,1)\n",
    "v3"
   ]
  },
  {
   "cell_type": "code",
   "execution_count": 4,
   "metadata": {},
   "outputs": [
    {
     "data": {
      "text/plain": [
       "array([0.2, 0.4, 0.4])"
      ]
     },
     "execution_count": 4,
     "metadata": {},
     "output_type": "execute_result"
    }
   ],
   "source": [
    "# CH = a, D = b, R = c\n",
    "A = np.eye(3) - P\n",
    "A[-1, :] = np.ones(3)\n",
    "pi = la.solve(A, np.array([0,0,1]))\n",
    "pi"
   ]
  },
  {
   "cell_type": "markdown",
   "metadata": {},
   "source": [
    "**5** (20 points)\n",
    "\n",
    "The file `Q5.npy` contains the x and y coordinates in cols 1 and 2 respectively. \n",
    "\n",
    "- Find a cubic polynomial model to fit the data using the normal equations\n",
    "- Provide a geometric interpretation of the solution in terms of projection of a vector onto a space. What is the vector, what is the basis of the space, and what does the numerical solution you obtained represent?"
   ]
  },
  {
   "cell_type": "code",
   "execution_count": 13,
   "metadata": {},
   "outputs": [
    {
     "data": {
      "text/plain": [
       "array([-1.99235962, -1.02188927, -0.54438689,  0.99809019])"
      ]
     },
     "execution_count": 13,
     "metadata": {},
     "output_type": "execute_result"
    }
   ],
   "source": [
    "data = np.load(\"Q5.npy\")\n",
    "x = data[:, 0]\n",
    "y = data[:, 1]\n",
    "A = np.c_[np.ones(len(x)), x, x**2, x**3]\n",
    "betas = la.solve(A.T @ A, A.T @ y)\n",
    "betas"
   ]
  },
  {
   "cell_type": "markdown",
   "metadata": {},
   "source": [
    "Considering the view of projection, the vector is $y$, the space is the column space of $A$, which is $C(A)$, the basis is $\\{1,x,x^2,x^3\\}$. The numerical solution means the coordinate of the projection of $y$ onto $C(A)$."
   ]
  }
 ],
 "metadata": {
  "kernelspec": {
   "display_name": "Python 3",
   "language": "python",
   "name": "python3"
  },
  "language_info": {
   "codemirror_mode": {
    "name": "ipython",
    "version": 3
   },
   "file_extension": ".py",
   "mimetype": "text/x-python",
   "name": "python",
   "nbconvert_exporter": "python",
   "pygments_lexer": "ipython3",
   "version": "3.6.9"
  }
 },
 "nbformat": 4,
 "nbformat_minor": 2
}
