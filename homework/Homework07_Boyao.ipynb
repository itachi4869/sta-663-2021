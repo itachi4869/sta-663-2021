{
 "cells": [
  {
   "cell_type": "markdown",
   "metadata": {},
   "source": [
    "# Homework03:  Topic Modeling with Latent Semantic Analysis"
   ]
  },
  {
   "cell_type": "markdown",
   "metadata": {},
   "source": [
    "Latent Semantic Analysis (LSA) is a method for finding latent similarities between documents treated as a bag of words by using a low rank approximation. It is used for document classification, clustering and retrieval. For example, LSA can be used to search for prior art given a new patent application. In this homework, we will implement a small library for simple latent semantic analysis as a practical example of the application of SVD. The ideas are very similar to PCA. SVD is also used in recommender systems in an similar fashion (for an SVD-based recommender system library, see [Surpise](http://surpriselib.com). \n",
    "\n",
    "We will implement a toy example of LSA to get familiar with the ideas. If you want to use LSA or similar methods for statistical language analysis, the most efficient Python libraries are probably [gensim](https://radimrehurek.com/gensim/) and [spaCy](https://spacy.io) - these also provide an online algorithm - i.e. the training information can be continuously updated. Other useful functions for processing natural language can be found in the [Natural Language Toolkit](http://www.nltk.org/)."
   ]
  },
  {
   "cell_type": "markdown",
   "metadata": {},
   "source": [
    "**Note**: The SVD from scipy.linalg performs a full decomposition, which is inefficient since we only need to decompose until we get the first k singluar values. If the SVD from `scipy.linalg` is too slow, please use the `sparsesvd` function from the [sparsesvd](https://pypi.python.org/pypi/sparsesvd/) package to perform SVD instead.  You can install in the usual way with \n",
    "```\n",
    "!pip install sparsesvd\n",
    "```\n",
    "\n",
    "Then import the following\n",
    "```python\n",
    "from sparsesvd import sparsesvd \n",
    "from scipy.sparse import csc_matrix \n",
    "```\n",
    "\n",
    "and use as follows\n",
    "```python\n",
    "sparsesvd(csc_matrix(M), k=10)\n",
    "```"
   ]
  },
  {
   "cell_type": "markdown",
   "metadata": {},
   "source": [
    "**Exercise 1 (20 points)**.  Calculating pairwise distance matrices.\n",
    "\n",
    "Suppose we want to construct a distance matrix between the rows of a matrix. For example, given the matrix \n",
    "\n",
    "```python\n",
    "M = np.array([[1,2,3],[4,5,6]])\n",
    "```\n",
    "\n",
    "the distance matrix using Euclidean distance as the measure would be\n",
    "```python\n",
    "[[ 0.000  1.414  2.828]\n",
    " [ 1.414  0.000  1.414]\n",
    " [ 2.828  1.414  0.000]] \n",
    "```\n",
    "if $M$ was a collection of column vectors.\n",
    "\n",
    "Write a function to calculate the pairwise-distance matrix given the matrix $M$ and some arbitrary distance function. Your functions should have the following signature:\n",
    "```\n",
    "def func_name(M, distance_func):\n",
    "    pass\n",
    "```\n",
    "\n",
    "0. Write a distance function for the Euclidean, squared Euclidean and cosine measures.\n",
    "1. Write the function using looping for M as a collection of row vectors.\n",
    "2. Write the function using looping for M as a collection of column vectors.\n",
    "3. Wrtie the function using broadcasting for M as a collection of row vectors.\n",
    "4. Write the function using broadcasting for M as a collection of column vectors. \n",
    "\n",
    "For 3 and 4, try to avoid using transposition (but if you get stuck, there will be no penalty for using transposition). Check that all four functions give the same result when applied to the given matrix $M$."
   ]
  },
  {
   "cell_type": "code",
   "execution_count": 1,
   "metadata": {},
   "outputs": [],
   "source": [
    "import numpy as np\n",
    "import scipy.linalg as la\n",
    "import string\n",
    "import pandas as pd\n",
    "from scipy import stats"
   ]
  },
  {
   "cell_type": "code",
   "execution_count": 6,
   "metadata": {},
   "outputs": [],
   "source": [
    "np.set_printoptions(precision=4)"
   ]
  },
  {
   "cell_type": "code",
   "execution_count": 9,
   "metadata": {},
   "outputs": [],
   "source": [
    "def Euc(x, y):\n",
    "    return np.sqrt(np.sum((x - y) ** 2))\n",
    "\n",
    "def sqEuc(x, y):\n",
    "    return np.sum((x - y) ** 2)\n",
    "\n",
    "def Cos(x, y):\n",
    "    return np.dot(x.T, y)/(np.linalg.norm(x) * np.linalg.norm(y))"
   ]
  },
  {
   "cell_type": "code",
   "execution_count": 3,
   "metadata": {},
   "outputs": [],
   "source": [
    "M = np.array([[1,2,3],[4,5,6]])"
   ]
  },
  {
   "cell_type": "code",
   "execution_count": 14,
   "metadata": {},
   "outputs": [
    {
     "data": {
      "text/plain": [
       "array([[ 0, 27],\n",
       "       [27,  0]])"
      ]
     },
     "execution_count": 14,
     "metadata": {},
     "output_type": "execute_result"
    }
   ],
   "source": [
    "def loop_row(M, distance_func):\n",
    "    \n",
    "    n = M.shape[0]\n",
    "    dist = np.zeros((n, n))\n",
    "    \n",
    "    for i in range(n):\n",
    "        for j in range(i + 1, n):\n",
    "            dist[i, j] = dist[j, i] = distance_func(M[i, :], M[j, :])\n",
    "            \n",
    "    return dist\n",
    "\n",
    "def loop_col(M, distance_func):\n",
    "    return loop_row(M.T, distance_func)\n",
    "\n",
    "def broadcast_row(M, distance_func):\n",
    "    dist = np.sum(M ** 2, axis = 1) + np.sum(M ** 2, axis = 1)[:, np.newaxis] - 2 * np.dot(M, M.T)\n",
    "    return dist\n",
    "\n",
    "broadcast_row(M, Euc)"
   ]
  },
  {
   "cell_type": "markdown",
   "metadata": {},
   "source": [
    "**Exercise 2 (20 points)**. "
   ]
  },
  {
   "cell_type": "markdown",
   "metadata": {},
   "source": [
    "**Exercise 2 (20 points)**. Write 3 functions to calculate the term frequency (tf), the inverse document frequency (idf) and the product (tf-idf). Each function should take a single argument `docs`, which is a dictionary of (key=identifier, value=document text) pairs, and return an appropriately sized array. Convert '-' to ' ' (space), remove punctuation, convert text to lowercase and split on whitespace to generate a collection of terms from the document text.\n",
    "\n",
    "- tf = the number of occurrences of term $i$ in document $j$\n",
    "- idf = $\\log \\frac{n}{1 + \\text{df}_i}$ where $n$ is the total number of documents and $\\text{df}_i$ is the number of documents in which term $i$ occurs.\n",
    "\n",
    "Print the table of tf-idf values for the following document collection\n",
    "\n",
    "```\n",
    "s1 = \"The quick brown fox\"\n",
    "s2 = \"Brown fox jumps over the jumps jumps jumps\"\n",
    "s3 = \"The the the lazy dog elephant.\"\n",
    "s4 = \"The the the the the dog peacock lion tiger elephant\"\n",
    "\n",
    "docs = {'s1': s1, 's2': s2, 's3': s3, 's4': s4}\n",
    "```"
   ]
  },
  {
   "cell_type": "code",
   "execution_count": 25,
   "metadata": {},
   "outputs": [],
   "source": [
    "def tf(docs):\n",
    "    doc_words = [doc.strip().lower().translate(str.maketrans('-', ' ', string.punctuation)).split() \n",
    "                 for key, doc in docs.items()]\n",
    "    words = [word for words in doc_words for word in words]\n",
    "    terms = set(words)\n",
    "    \n",
    "    table = np.zeros((len(terms), len(docs)), dtype = 'int')\n",
    "    for i, term in enumerate(terms):\n",
    "        for j, doc in enumerate(doc_words):\n",
    "            table[i, j] = doc.count(term)\n",
    "            \n",
    "    df = pd.DataFrame(table, columns = docs.keys(), index=terms)\n",
    "    \n",
    "    return df\n",
    "\n",
    "def idf(docs):\n",
    "    doc_words = [doc.strip().lower().translate(str.maketrans('-', ' ', string.punctuation)).split() \n",
    "                 for key, doc in docs.items()]\n",
    "    words = [word for words in doc_words for word in words]\n",
    "    terms = set(words)\n",
    "    \n",
    "    table = np.zeros((len(terms)), dtype = 'int')\n",
    "    for i, term in enumerate(terms):\n",
    "        for doc in doc_words:\n",
    "            table[i] += int(term in doc)\n",
    "    \n",
    "    table = np.log(len(docs) / (1 + table))\n",
    "    \n",
    "    df = pd.DataFrame(table, columns=['idf'], index = terms)\n",
    "    \n",
    "    return df\n",
    "\n",
    "def tfidf(docs):\n",
    "    tf_tbl = tf(docs)\n",
    "    idf_tbl = idf(docs)\n",
    "    \n",
    "    tfidf_tbl = pd.DataFrame(np.array(tf_tbl) * np.array(idf_tbl),columns = docs.keys(), index = idf_tbl.index)\n",
    "    return tfidf_tbl\n",
    "    "
   ]
  },
  {
   "cell_type": "code",
   "execution_count": 26,
   "metadata": {},
   "outputs": [
    {
     "name": "stdout",
     "output_type": "stream",
     "text": [
      "          s1  s2  s3  s4\n",
      "lion       0   0   0   1\n",
      "the        1   1   3   5\n",
      "dog        0   0   1   1\n",
      "elephant   0   0   1   1\n",
      "tiger      0   0   0   1\n",
      "lazy       0   0   1   0\n",
      "peacock    0   0   0   1\n",
      "over       0   1   0   0\n",
      "quick      1   0   0   0\n",
      "brown      1   1   0   0\n",
      "fox        1   1   0   0\n",
      "jumps      0   4   0   0\n",
      "               idf\n",
      "lion      0.693147\n",
      "the      -0.223144\n",
      "dog       0.287682\n",
      "elephant  0.287682\n",
      "tiger     0.693147\n",
      "lazy      0.693147\n",
      "peacock   0.693147\n",
      "over      0.693147\n",
      "quick     0.693147\n",
      "brown     0.287682\n",
      "fox       0.287682\n",
      "jumps     0.693147\n",
      "                s1        s2        s3        s4\n",
      "lion      0.000000  0.000000  0.000000  0.693147\n",
      "the      -0.223144 -0.223144 -0.669431 -1.115718\n",
      "dog       0.000000  0.000000  0.287682  0.287682\n",
      "elephant  0.000000  0.000000  0.287682  0.287682\n",
      "tiger     0.000000  0.000000  0.000000  0.693147\n",
      "lazy      0.000000  0.000000  0.693147  0.000000\n",
      "peacock   0.000000  0.000000  0.000000  0.693147\n",
      "over      0.000000  0.693147  0.000000  0.000000\n",
      "quick     0.693147  0.000000  0.000000  0.000000\n",
      "brown     0.287682  0.287682  0.000000  0.000000\n",
      "fox       0.287682  0.287682  0.000000  0.000000\n",
      "jumps     0.000000  2.772589  0.000000  0.000000\n"
     ]
    }
   ],
   "source": [
    "s1 = \"The quick brown fox\"\n",
    "s2 = \"Brown fox jumps over the jumps jumps jumps\"\n",
    "s3 = \"The the the lazy dog elephant.\"\n",
    "s4 = \"The the the the the dog peacock lion tiger elephant\"\n",
    "\n",
    "docs = {'s1': s1, 's2': s2, 's3': s3, 's4': s4}\n",
    "\n",
    "print(tf(docs))\n",
    "print(idf(docs))\n",
    "print(tfidf(docs))\n"
   ]
  },
  {
   "cell_type": "markdown",
   "metadata": {},
   "source": [
    "**Exercise 3 (20 points)**. \n",
    "\n",
    "1. Write a function that takes a matrix $M$ and an integer $k$ as arguments, and reconstructs a reduced matrix using only the $k$ largest singular values. Use the `scipy.linagl.svd` function to perform the decomposition. This is the least squares approximation to the matrix $M$ in $k$ dimensions.\n",
    "\n",
    "2. Apply the function you just wrote to the following term-frequency matrix for a set of $9$ documents using $k=2$ and print the reconstructed matrix $M'$.\n",
    "```\n",
    "M = np.array([[1, 0, 0, 1, 0, 0, 0, 0, 0],\n",
    "       [1, 0, 1, 0, 0, 0, 0, 0, 0],\n",
    "       [1, 1, 0, 0, 0, 0, 0, 0, 0],\n",
    "       [0, 1, 1, 0, 1, 0, 0, 0, 0],\n",
    "       [0, 1, 1, 2, 0, 0, 0, 0, 0],\n",
    "       [0, 1, 0, 0, 1, 0, 0, 0, 0],\n",
    "       [0, 1, 0, 0, 1, 0, 0, 0, 0],\n",
    "       [0, 0, 1, 1, 0, 0, 0, 0, 0],\n",
    "       [0, 1, 0, 0, 0, 0, 0, 0, 1],\n",
    "       [0, 0, 0, 0, 0, 1, 1, 1, 0],\n",
    "       [0, 0, 0, 0, 0, 0, 1, 1, 1],\n",
    "       [0, 0, 0, 0, 0, 0, 0, 1, 1]])\n",
    "```\n",
    "\n",
    "3. Calculate the pairwise correlation matrix for the original matrix M and the reconstructed matrix using $k=2$ singular values (you may use [scipy.stats.spearmanr](http://docs.scipy.org/doc/scipy/reference/generated/scipy.stats.spearmanr.html) to do the calculations). Consider the fist 5 sets of documents as one group $G1$ and the last 4 as another group $G2$ (i.e. first 5 and last 4 columns). What is the average within group correlation for $G1$, $G2$ and the average cross-group correlation for G1-G2 using either $M$ or $M'$. (Do not include self-correlation in the within-group calculations.)."
   ]
  },
  {
   "cell_type": "code",
   "execution_count": 2,
   "metadata": {},
   "outputs": [],
   "source": [
    "def reconstruct(M, k):\n",
    "    U, s, Vt = la.svd(M, full_matrices = False)\n",
    "    M_reduced = U[:, :k] @ np.diag(s[:k]) @ Vt[:k, :]\n",
    "    \n",
    "    return M_reduced"
   ]
  },
  {
   "cell_type": "code",
   "execution_count": 9,
   "metadata": {},
   "outputs": [
    {
     "data": {
      "text/plain": [
       "array([[ 0.1621,  0.4005,  0.379 ,  0.4676,  0.176 , -0.0527, -0.1151,\n",
       "        -0.1591, -0.0918],\n",
       "       [ 0.1406,  0.3698,  0.329 ,  0.4004,  0.165 , -0.0328, -0.0706,\n",
       "        -0.0968, -0.043 ],\n",
       "       [ 0.1524,  0.505 ,  0.3579,  0.4101,  0.2362,  0.0242,  0.0598,\n",
       "         0.0869,  0.124 ],\n",
       "       [ 0.258 ,  0.8411,  0.6057,  0.6974,  0.3923,  0.0331,  0.0832,\n",
       "         0.1218,  0.1874],\n",
       "       [ 0.4488,  1.2344,  1.0509,  1.2658,  0.5563, -0.0738, -0.1547,\n",
       "        -0.2096, -0.0489],\n",
       "       [ 0.1596,  0.5817,  0.3752,  0.4169,  0.2765,  0.0559,  0.1322,\n",
       "         0.1889,  0.2169],\n",
       "       [ 0.1596,  0.5817,  0.3752,  0.4169,  0.2765,  0.0559,  0.1322,\n",
       "         0.1889,  0.2169],\n",
       "       [ 0.2185,  0.5496,  0.511 ,  0.6281,  0.2425, -0.0654, -0.1425,\n",
       "        -0.1966, -0.1079],\n",
       "       [ 0.0969,  0.5321,  0.2299,  0.2118,  0.2665,  0.1368,  0.3146,\n",
       "         0.4444,  0.425 ],\n",
       "       [-0.0613,  0.2321, -0.1389, -0.2656,  0.1449,  0.2404,  0.5461,\n",
       "         0.7674,  0.6637],\n",
       "       [-0.0647,  0.3353, -0.1456, -0.3014,  0.2028,  0.3057,  0.6949,\n",
       "         0.9766,  0.8487],\n",
       "       [-0.0431,  0.2539, -0.0967, -0.2079,  0.1519,  0.2212,  0.5029,\n",
       "         0.7069,  0.6155]])"
      ]
     },
     "execution_count": 9,
     "metadata": {},
     "output_type": "execute_result"
    }
   ],
   "source": [
    "M = np.array([[1, 0, 0, 1, 0, 0, 0, 0, 0],\n",
    "    [1, 0, 1, 0, 0, 0, 0, 0, 0],\n",
    "    [1, 1, 0, 0, 0, 0, 0, 0, 0],\n",
    "    [0, 1, 1, 0, 1, 0, 0, 0, 0],\n",
    "    [0, 1, 1, 2, 0, 0, 0, 0, 0],\n",
    "    [0, 1, 0, 0, 1, 0, 0, 0, 0],\n",
    "    [0, 1, 0, 0, 1, 0, 0, 0, 0],\n",
    "    [0, 0, 1, 1, 0, 0, 0, 0, 0],\n",
    "    [0, 1, 0, 0, 0, 0, 0, 0, 1],\n",
    "    [0, 0, 0, 0, 0, 1, 1, 1, 0],\n",
    "    [0, 0, 0, 0, 0, 0, 1, 1, 1],\n",
    "    [0, 0, 0, 0, 0, 0, 0, 1, 1]])\n",
    "\n",
    "k = 2\n",
    "\n",
    "Mp = reconstruct(M, k)\n",
    "Mp"
   ]
  },
  {
   "cell_type": "code",
   "execution_count": 18,
   "metadata": {},
   "outputs": [
    {
     "name": "stdout",
     "output_type": "stream",
     "text": [
      "[[ 1.     -0.1925  0.      0.0734 -0.3333 -0.1741 -0.2582 -0.3333 -0.3333]\n",
      " [-0.1925  1.      0.     -0.1271  0.5774 -0.3015 -0.4472 -0.5774 -0.1925]\n",
      " [ 0.      0.      1.      0.4382  0.     -0.2132 -0.3162 -0.4082 -0.4082]\n",
      " [ 0.0734 -0.1271  0.4382  1.     -0.3303 -0.1725 -0.2558 -0.3303 -0.3303]\n",
      " [-0.3333  0.5774  0.     -0.3303  1.     -0.1741 -0.2582 -0.3333 -0.3333]\n",
      " [-0.1741 -0.3015 -0.2132 -0.1725 -0.1741  1.      0.6742  0.5222 -0.1741]\n",
      " [-0.2582 -0.4472 -0.3162 -0.2558 -0.2582  0.6742  1.      0.7746  0.2582]\n",
      " [-0.3333 -0.5774 -0.4082 -0.3303 -0.3333  0.5222  0.7746  1.      0.5556]\n",
      " [-0.3333 -0.1925 -0.4082 -0.3303 -0.3333 -0.1741  0.2582  0.5556  1.    ]]\n",
      "[[ 1.      0.8441  0.9983  0.9983  0.7193 -0.8371 -0.8371 -0.8371 -0.8021]\n",
      " [ 0.8441  1.      0.8392  0.8392  0.9702 -0.5524 -0.5524 -0.5524 -0.4755]\n",
      " [ 0.9983  0.8392  1.      1.      0.718  -0.8392 -0.8392 -0.8392 -0.8042]\n",
      " [ 0.9983  0.8392  1.      1.      0.718  -0.8392 -0.8392 -0.8392 -0.8042]\n",
      " [ 0.7193  0.9702  0.718   0.718   1.     -0.3888 -0.3888 -0.3888 -0.2977]\n",
      " [-0.8371 -0.5524 -0.8392 -0.8392 -0.3888  1.      1.      1.      0.979 ]\n",
      " [-0.8371 -0.5524 -0.8392 -0.8392 -0.3888  1.      1.      1.      0.979 ]\n",
      " [-0.8371 -0.5524 -0.8392 -0.8392 -0.3888  1.      1.      1.      0.979 ]\n",
      " [-0.8021 -0.4755 -0.8042 -0.8042 -0.2977  0.979   0.979   0.979   1.    ]]\n"
     ]
    }
   ],
   "source": [
    "M_cor = stats.spearmanr(M).correlation\n",
    "Mp_cor = stats.spearmanr(Mp).correlation\n",
    "print(M_cor)\n",
    "print(Mp_cor)"
   ]
  },
  {
   "cell_type": "code",
   "execution_count": 24,
   "metadata": {},
   "outputs": [
    {
     "name": "stdout",
     "output_type": "stream",
     "text": [
      "-0.11309645968036279\n",
      "0.3407850581248793\n",
      "-0.06125878345455297\n"
     ]
    }
   ],
   "source": [
    "G1 = M[:, :5]\n",
    "G2 = M[:, 5:]\n",
    "\n",
    "G1_cor = stats.spearmanr(G1).correlation\n",
    "G1_cor_mean = G1_cor[0, 1:].mean()\n",
    "print(G1_cor_mean)\n",
    "\n",
    "G2_cor = stats.spearmanr(G2).correlation\n",
    "G2_cor_mean = G2_cor[0, 1:].mean()\n",
    "print(G2_cor_mean)\n",
    "\n",
    "G1_G2_cor = stats.spearmanr(G1, G2).correlation\n",
    "G1_G2_cor_mean = G1_G2_cor[0, :].mean()\n",
    "print(G1_G2_cor_mean)"
   ]
  },
  {
   "cell_type": "markdown",
   "metadata": {},
   "source": [
    "**Exercise 4 (40 points)**. Clustering with LSA\n",
    "\n",
    "1. Begin by loading a PubMed database of selected article titles using 'pickle'. With the following:\n",
    "```import pickle\n",
    "docs = pickle.load(open('pubmed.pic', 'rb'))```\n",
    "\n",
    "    Create a tf-idf matrix for every term that appears at least once in any of the documents. What is the shape of the tf-idf matrix? \n",
    "\n",
    "2. Perform SVD on the tf-idf matrix to obtain $U \\Sigma V^T$ (often written as $T \\Sigma D^T$ in this context with $T$ representing the terms and $D$ representing the documents). If we set all but the top $k$ singular values to 0, the reconstructed matrix is essentially $U_k \\Sigma_k V_k^T$, where $U_k$ is $m \\times k$, $\\Sigma_k$ is $k \\times k$ and $V_k^T$ is $k \\times n$. Terms in this reduced space are represented by $U_k \\Sigma_k$ and documents by $\\Sigma_k V^T_k$. Reconstruct the matrix using the first $k=10$ singular values.\n",
    "\n",
    "3. Use agglomerative hierarchical clustering with complete linkage to plot a dendrogram and comment on the likely number of  document clusters with $k = 100$. Use the dendrogram function from [SciPy ](https://docs.scipy.org/doc/scipy-0.15.1/reference/generated/scipy.cluster.hierarchy.dendrogram.html).\n",
    "\n",
    "4. Determine how similar each of the original documents is to the new document `data/mystery.txt`. Since $A = U \\Sigma V^T$, we also have $V = A^T U S^{-1}$ using orthogonality and the rule for transposing matrix products. This suggests that in order to map the new document to the same concept space, first find the tf-idf vector $v$ for the new document - this must contain all (and only) the terms present in the existing tf-idx matrix. Then the query vector $q$ is given by $v^T U_k \\Sigma_k^{-1}$. Find the 10 documents most similar to the new document and the 10 most dissimilar. "
   ]
  },
  {
   "cell_type": "code",
   "execution_count": 29,
   "metadata": {},
   "outputs": [
    {
     "data": {
      "text/plain": [
       "(6906, 178)"
      ]
     },
     "execution_count": 29,
     "metadata": {},
     "output_type": "execute_result"
    }
   ],
   "source": [
    "import pickle\n",
    "\n",
    "docs = pickle.load(open('pubmed.pic', 'rb'))\n",
    "tfidf_df = tfidf(docs)\n",
    "tfidf_m = np.array(tfidf_df)\n",
    "tfidf_m.shape"
   ]
  },
  {
   "cell_type": "code",
   "execution_count": 30,
   "metadata": {},
   "outputs": [
    {
     "data": {
      "text/plain": [
       "array([[-0.0093,  0.0188,  0.0172, ...,  0.0077,  0.0061,  0.009 ],\n",
       "       [-0.0409,  0.1092,  0.1123, ...,  0.0282,  0.0298,  0.0497],\n",
       "       [-0.0016,  0.0541,  0.0468, ...,  0.0369,  0.0198,  0.0206],\n",
       "       ...,\n",
       "       [-0.0215,  0.0269,  0.0227, ...,  0.0177,  0.0102,  0.0139],\n",
       "       [-0.0116,  0.0284,  0.0157, ...,  0.0431,  0.0143,  0.0076],\n",
       "       [-0.043 ,  0.0661,  0.0025, ...,  0.2094,  0.0463, -0.0206]])"
      ]
     },
     "execution_count": 30,
     "metadata": {},
     "output_type": "execute_result"
    }
   ],
   "source": [
    "tfidf_mp = reconstruct(tfidf_m, 10)\n",
    "tfidf_mp"
   ]
  },
  {
   "cell_type": "code",
   "execution_count": 31,
   "metadata": {},
   "outputs": [],
   "source": [
    "from matplotlib import pyplot as plt\n",
    "from scipy.cluster.hierarchy import dendrogram, linkage\n",
    "\n",
    "k = 100\n",
    "Z = linkage(reconstruct(tfidf_m, k), 'complete')"
   ]
  },
  {
   "cell_type": "code",
   "execution_count": 41,
   "metadata": {},
   "outputs": [
    {
     "data": {
      "image/png": "[encoded data removed]",
      "text/plain": [
       "<Figure size 1800x720 with 1 Axes>"
      ]
     },
     "metadata": {
      "needs_background": "light"
     },
     "output_type": "display_data"
    }
   ],
   "source": [
    "plt.figure(figsize=(25, 10))\n",
    "plt.title('Hierarchical Clustering Dendrogram')\n",
    "plt.xlabel('index')\n",
    "plt.ylabel('distance')\n",
    "dendrogram(\n",
    "    Z,\n",
    "    truncate_mode = 'level',\n",
    "    p = 15,\n",
    "    leaf_font_size=15.,  # font size for the x axis labels\n",
    ")\n",
    "plt.show()"
   ]
  },
  {
   "cell_type": "code",
   "execution_count": 43,
   "metadata": {},
   "outputs": [],
   "source": [
    "U, s, Vt = la.svd(tfidf_m, full_matrices = False)\n",
    "\n",
    "with open(\"mystery.txt\") as f:\n",
    "    newtext = f.read()\n",
    "    \n",
    "idf_df = idf(docs)\n"
   ]
  },
  {
   "cell_type": "code",
   "execution_count": 55,
   "metadata": {},
   "outputs": [
    {
     "data": {
      "text/plain": [
       "911.0632976017828"
      ]
     },
     "execution_count": 55,
     "metadata": {},
     "output_type": "execute_result"
    }
   ],
   "source": [
    "newtext_words = newtext.strip().lower().translate(str.maketrans('-', ' ', string.punctuation)).split()\n",
    "terms = [term for term in idf_df.index]\n",
    "\n",
    "tf_new = np.zeros((len(terms)), dtype = 'int')\n",
    "for i, term in enumerate(terms):\n",
    "    tf_new[i] = newtext_words.count(term)\n",
    "\n",
    "tfidf_new = np.array(idf_df) * tf_new.reshape((-1,1))"
   ]
  },
  {
   "cell_type": "code",
   "execution_count": 56,
   "metadata": {},
   "outputs": [
    {
     "data": {
      "text/plain": [
       "array([[-0.015 ,  0.1   , -0.0283,  0.0537, -0.0753, -0.0065, -0.0563,\n",
       "        -0.008 , -0.0868,  0.0037, -0.0099,  0.0076, -0.0288, -0.003 ,\n",
       "        -0.0853, -0.0189, -0.0037,  0.0037,  0.0616, -0.0115,  0.012 ,\n",
       "        -0.0014, -0.004 ,  0.0231,  0.0218,  0.004 ,  0.0341, -0.0157,\n",
       "         0.0193,  0.0056,  0.0114,  0.0019, -0.0054,  0.003 ,  0.0052,\n",
       "         0.0264,  0.018 ,  0.0245,  0.0029,  0.038 ,  0.0222,  0.0098,\n",
       "        -0.0031, -0.0052, -0.0357, -0.0177,  0.0097, -0.0079,  0.0014,\n",
       "        -0.0035,  0.0256,  0.0401, -0.0045,  0.0162, -0.0205, -0.0052,\n",
       "        -0.0032,  0.0025,  0.0048, -0.0143,  0.027 , -0.0498, -0.0128,\n",
       "         0.027 ,  0.0004, -0.0196,  0.0147, -0.0033,  0.0122, -0.0071,\n",
       "         0.0048, -0.0108, -0.028 ,  0.0441,  0.0087,  0.0188, -0.0062,\n",
       "        -0.0102, -0.0031, -0.0185, -0.0061,  0.01  ,  0.0307, -0.0023,\n",
       "        -0.0493,  0.0047, -0.0073, -0.0031, -0.0583, -0.0406,  0.015 ,\n",
       "        -0.0092, -0.022 , -0.0022, -0.0061, -0.0188,  0.0298, -0.0766,\n",
       "         0.0179,  0.0531]])"
      ]
     },
     "execution_count": 56,
     "metadata": {},
     "output_type": "execute_result"
    }
   ],
   "source": [
    "tfidf_new.T @ U[:, :k] @ la.inv(np.diag(s[:k]))"
   ]
  },
  {
   "cell_type": "markdown",
   "metadata": {},
   "source": [
    "**Notes on the Pubmed articles**\n",
    "\n",
    "These were downloaded with the following script.\n",
    "\n",
    "```python\n",
    "from Bio import Entrez, Medline\n",
    "Entrez.email = \"YOUR EMAIL HERE\"\n",
    "import cPickle\n",
    "\n",
    "try:\n",
    "    docs = cPickle.load(open('pubmed.pic'))\n",
    "except Exception, e:\n",
    "    print e\n",
    "\n",
    "    docs = {}\n",
    "    for term in ['plasmodium', 'diabetes', 'asthma', 'cytometry']:\n",
    "        handle = Entrez.esearch(db=\"pubmed\", term=term, retmax=50)\n",
    "        result = Entrez.read(handle)\n",
    "        handle.close()\n",
    "        idlist = result[\"IdList\"]\n",
    "        handle2 = Entrez.efetch(db=\"pubmed\", id=idlist, rettype=\"medline\", retmode=\"text\")\n",
    "        result2 = Medline.parse(handle2)\n",
    "        for record in result2:\n",
    "            title = record.get(\"TI\", None)\n",
    "            abstract = record.get(\"AB\", None)\n",
    "            if title is None or abstract is None:\n",
    "                continue\n",
    "            docs[title] = '\\n'.join([title, abstract])\n",
    "            print title\n",
    "        handle2.close()\n",
    "    cPickle.dump(docs, open('pubmed.pic', 'w'))\n",
    "docs.values()\n",
    "```"
   ]
  },
  {
   "cell_type": "code",
   "execution_count": null,
   "metadata": {},
   "outputs": [],
   "source": []
  }
 ],
 "metadata": {
  "kernelspec": {
   "display_name": "Python 3",
   "language": "python",
   "name": "python3"
  },
  "language_info": {
   "codemirror_mode": {
    "name": "ipython",
    "version": 3
   },
   "file_extension": ".py",
   "mimetype": "text/x-python",
   "name": "python",
   "nbconvert_exporter": "python",
   "pygments_lexer": "ipython3",
   "version": "3.6.9"
  }
 },
 "nbformat": 4,
 "nbformat_minor": 1
}
