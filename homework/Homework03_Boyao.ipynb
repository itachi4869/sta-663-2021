{
 "cells": [
  {
   "cell_type": "markdown",
   "metadata": {},
   "source": [
    "**1**. (20 points) \n",
    "\n",
    "Create a `pandas` DataFrame with these values\n",
    "\n",
    "|name|a-b-|a-b+|a+b-|a+b+|\n",
    "|-|-|-|-|-|\n",
    "|ann|1|2|3|4|\n",
    "|bob|5|6|7|8|\n",
    "\n",
    "Now convert it to another DataFrame so that it looks like\n",
    "\n",
    "|    | name   | a   | b   |   value |\n",
    "|---:|:-------|:----|:----|--------:|\n",
    "|  0 | ann    | -   | -   |       1 |\n",
    "|  2 | ann    | -   | +   |       2 |\n",
    "|  4 | ann    | +   | -   |       3 |\n",
    "|  6 | ann    | +   | +   |       4 |\n",
    "|  1 | bob    | -   | -   |       5 |\n",
    "|  3 | bob    | -   | +   |       6 |\n",
    "|  5 | bob    | +   | -   |       7 |\n",
    "|  7 | bob    | +   | +   |       8 |\n",
    "\n",
    "Note - all information used to construct the second DataFrame must be derived from the first one."
   ]
  },
  {
   "cell_type": "code",
   "execution_count": 30,
   "metadata": {},
   "outputs": [
    {
     "name": "stdout",
     "output_type": "stream",
     "text": [
      "name  a-b-  a-b+  a+b-  a+b+\n",
      " ann     1     2     3     4\n",
      " bob     5     6     7     8\n"
     ]
    },
    {
     "data": {
      "text/html": [
       "<div>\n",
       "<style scoped>\n",
       "    .dataframe tbody tr th:only-of-type {\n",
       "        vertical-align: middle;\n",
       "    }\n",
       "\n",
       "    .dataframe tbody tr th {\n",
       "        vertical-align: top;\n",
       "    }\n",
       "\n",
       "    .dataframe thead th {\n",
       "        text-align: right;\n",
       "    }\n",
       "</style>\n",
       "<table border=\"1\" class=\"dataframe\">\n",
       "  <thead>\n",
       "    <tr style=\"text-align: right;\">\n",
       "      <th></th>\n",
       "      <th>name</th>\n",
       "      <th>a</th>\n",
       "      <th>b</th>\n",
       "      <th>value</th>\n",
       "    </tr>\n",
       "  </thead>\n",
       "  <tbody>\n",
       "    <tr>\n",
       "      <th>0</th>\n",
       "      <td>ann</td>\n",
       "      <td>-</td>\n",
       "      <td>-</td>\n",
       "      <td>1</td>\n",
       "    </tr>\n",
       "    <tr>\n",
       "      <th>2</th>\n",
       "      <td>ann</td>\n",
       "      <td>-</td>\n",
       "      <td>+</td>\n",
       "      <td>2</td>\n",
       "    </tr>\n",
       "    <tr>\n",
       "      <th>4</th>\n",
       "      <td>ann</td>\n",
       "      <td>+</td>\n",
       "      <td>-</td>\n",
       "      <td>3</td>\n",
       "    </tr>\n",
       "    <tr>\n",
       "      <th>6</th>\n",
       "      <td>ann</td>\n",
       "      <td>+</td>\n",
       "      <td>+</td>\n",
       "      <td>4</td>\n",
       "    </tr>\n",
       "    <tr>\n",
       "      <th>1</th>\n",
       "      <td>bob</td>\n",
       "      <td>-</td>\n",
       "      <td>-</td>\n",
       "      <td>5</td>\n",
       "    </tr>\n",
       "    <tr>\n",
       "      <th>3</th>\n",
       "      <td>bob</td>\n",
       "      <td>-</td>\n",
       "      <td>+</td>\n",
       "      <td>6</td>\n",
       "    </tr>\n",
       "    <tr>\n",
       "      <th>5</th>\n",
       "      <td>bob</td>\n",
       "      <td>+</td>\n",
       "      <td>-</td>\n",
       "      <td>7</td>\n",
       "    </tr>\n",
       "    <tr>\n",
       "      <th>7</th>\n",
       "      <td>bob</td>\n",
       "      <td>+</td>\n",
       "      <td>+</td>\n",
       "      <td>8</td>\n",
       "    </tr>\n",
       "  </tbody>\n",
       "</table>\n",
       "</div>"
      ],
      "text/plain": [
       "  name  a  b  value\n",
       "0  ann  -  -      1\n",
       "2  ann  -  +      2\n",
       "4  ann  +  -      3\n",
       "6  ann  +  +      4\n",
       "1  bob  -  -      5\n",
       "3  bob  -  +      6\n",
       "5  bob  +  -      7\n",
       "7  bob  +  +      8"
      ]
     },
     "execution_count": 30,
     "metadata": {},
     "output_type": "execute_result"
    }
   ],
   "source": [
    "import numpy as np\n",
    "import pandas as pd\n",
    "\n",
    "# Create dataframe\n",
    "df = pd.DataFrame(np.array(range(1,9)).reshape(2,4), columns = ['a-b-','a-b+','a+b-','a+b+'])\n",
    "names = pd.DataFrame(dict(name = ['ann','bob']))\n",
    "df = names.join(df)\n",
    "print(df.to_string(index=False))\n",
    "\n",
    "# Convert to another dataframe\n",
    "df = pd.melt(df, id_vars='name').sort_values(by='name')\n",
    "df.variable = df.variable.str.replace('a','b')\n",
    "df[['del','a','b']] = df.variable.str.split('b').apply(pd.Series, index = ['del','a','b'])\n",
    "df = df.drop(columns = ['variable','del'])\n",
    "\n",
    "# Modify the column order\n",
    "cols = df.columns.tolist()\n",
    "cols_new = [cols[i] for i in [0,2,3,1]]\n",
    "df = df[cols_new]\n",
    "df"
   ]
  },
  {
   "cell_type": "markdown",
   "metadata": {},
   "source": [
    "**2**. (20 points)\n",
    "\n",
    "Simulate $n$ coin toss experiments, in which you toss a coin $k$ times for each experiment. Find the maximum run length of heads (e.g. the sequence `T,T,H,H,H,T,H,H` has a maximum run length of 3 heads in each experiment.  What is the most common maximum run length?\n",
    "\n",
    "Let $n$ = 10,000 and $k=100$."
   ]
  },
  {
   "cell_type": "code",
   "execution_count": 29,
   "metadata": {},
   "outputs": [
    {
     "name": "stdout",
     "output_type": "stream",
     "text": [
      "[5]\n"
     ]
    }
   ],
   "source": [
    "import numpy as np\n",
    "\n",
    "def toss(k = 100):\n",
    "    \n",
    "    res = np.random.random(k) < 0.5\n",
    "    \n",
    "    max_len = 0\n",
    "    length = 0\n",
    "    for i in range(k):\n",
    "        if res[i]: \n",
    "            length += 1\n",
    "        else:\n",
    "            max_len = max(max_len, length)\n",
    "            length = 0\n",
    "    \n",
    "    max_len = max(max_len, length)\n",
    "    return max_len\n",
    "\n",
    "n = 10000\n",
    "k = 100\n",
    "\n",
    "times = [0] * (k + 1)\n",
    "for i in range(n):\n",
    "    times[toss(k)] += 1\n",
    "\n",
    "max_times = max(times)\n",
    "print([i for i, j in enumerate(times) if j == max_times])"
   ]
  },
  {
   "cell_type": "markdown",
   "metadata": {},
   "source": [
    "**3**. (20 points)\n",
    "\n",
    "Wikipedia gives this algorithm for finding prime numbers\n",
    "\n",
    "To find all the prime numbers less than or equal to a given integer n by Eratosthenes' method:\n",
    "\n",
    "- Create a list of consecutive integers from 2 through n: (2, 3, 4, ..., n).\n",
    "- Initially, let p equal 2, the smallest prime number.\n",
    "- Enumerate the multiples of p by counting to n from 2p in increments of p, and mark them in the list (these will be 2p, 3p, 4p, ...; the p itself should not be marked).\n",
    "- Find the first number greater than p in the list that is not marked. If there was no such number, stop. Otherwise, let p now equal this new number (which is the next prime), and repeat from step 3.\n",
    "- When the algorithm terminates, the numbers remaining not marked in the list are all the primes below n.\n",
    "\n",
    "Find all primes less than 1,000 using this method.\n",
    "\n",
    "- You may use `numpy` and do not have to follow the algorithm exactly if you can achieve the same results."
   ]
  },
  {
   "cell_type": "code",
   "execution_count": 37,
   "metadata": {},
   "outputs": [
    {
     "name": "stdout",
     "output_type": "stream",
     "text": [
      "[2, 3, 5, 7, 11, 13, 17, 19, 23, 29, 31, 37, 41, 43, 47, 53, 59, 61, 67, 71, 73, 79, 83, 89, 97, 101, 103, 107, 109, 113, 127, 131, 137, 139, 149, 151, 157, 163, 167, 173, 179, 181, 191, 193, 197, 199, 211, 223, 227, 229, 233, 239, 241, 251, 257, 263, 269, 271, 277, 281, 283, 293, 307, 311, 313, 317, 331, 337, 347, 349, 353, 359, 367, 373, 379, 383, 389, 397, 401, 409, 419, 421, 431, 433, 439, 443, 449, 457, 461, 463, 467, 479, 487, 491, 499, 503, 509, 521, 523, 541, 547, 557, 563, 569, 571, 577, 587, 593, 599, 601, 607, 613, 617, 619, 631, 641, 643, 647, 653, 659, 661, 673, 677, 683, 691, 701, 709, 719, 727, 733, 739, 743, 751, 757, 761, 769, 773, 787, 797, 809, 811, 821, 823, 827, 829, 839, 853, 857, 859, 863, 877, 881, 883, 887, 907, 911, 919, 929, 937, 941, 947, 953, 967, 971, 977, 983, 991, 997]\n"
     ]
    }
   ],
   "source": [
    "import numpy as np\n",
    "\n",
    "n = 1000\n",
    "marked = [False] * n\n",
    "\n",
    "for i in range(2, int(np.sqrt(n)) + 1):\n",
    "    if not marked[i]:\n",
    "        for j in range(2*i, n, i):\n",
    "            marked[j] = True\n",
    "\n",
    "primes = [i for i in range(2, n) if not marked[i]]\n",
    "print(primes)"
   ]
  },
  {
   "cell_type": "markdown",
   "metadata": {},
   "source": [
    "**4**. (40 points)\n",
    "\n",
    "Write code to generate a plot similar to those shown below using the explanation for generation of 1D Cellular Automata found [here](http://mathworld.wolfram.com/ElementaryCellularAutomaton.html). You should only need to use standard Python, `numpy` and `matplotllib`.\n",
    "\n",
    "![automata](http://mathworld.wolfram.com/images/eps-gif/ElementaryCA_850.gif)\n",
    "\n",
    "\n",
    "\n",
    "The input to the function making the plots should be a simple list of rules\n",
    "\n",
    "```python\n",
    "rules = [30, 54, 60, 62, 90, 94, 102, 110, 122, 126, \n",
    "         150, 158, 182, 188, 190, 220, 222, 250]\n",
    "```\n",
    "\n",
    "which you feed into your `make_plots` function\n",
    "```python\n",
    "make_plots(rules, niter)\n",
    "```\n",
    "\n",
    "You may, of course, write other helper functions to keep your code modular."
   ]
  },
  {
   "cell_type": "code",
   "execution_count": 55,
   "metadata": {},
   "outputs": [
    {
     "data": {
      "image/png": "[encoded data removed]",
      "text/plain": [
       "<Figure size 720x1080 with 18 Axes>"
      ]
     },
     "metadata": {
      "needs_background": "light"
     },
     "output_type": "display_data"
    }
   ],
   "source": [
    "%matplotlib inline\n",
    "import numpy as np\n",
    "import matplotlib.pyplot as plt\n",
    "\n",
    "# generate rules\n",
    "def gen_rules(num):\n",
    "    \n",
    "    pattern = [\n",
    "        (1,1,1),\n",
    "        (1,1,0),\n",
    "        (1,0,1),\n",
    "        (1,0,0),\n",
    "        (0,1,1),\n",
    "        (0,1,0),\n",
    "        (0,0,1),\n",
    "        (0,0,0)\n",
    "    ]\n",
    "    \n",
    "    bin_num = [int(i) for i in list(format(num, \"#010b\")[2:])]\n",
    "    mapping_rules = dict(zip(pattern, bin_num))\n",
    "    return mapping_rules\n",
    "\n",
    "# generate boards\n",
    "def make_plots(rules, niter):\n",
    "    \n",
    "    fig, ax = plt.subplots(nrows = 6, ncols = 3, figsize = (10, 15))\n",
    "    \n",
    "    for k, rule in enumerate(rules):\n",
    "        \n",
    "        board = np.zeros((niter, 2 * niter + 1)) # with zero padding for two sides\n",
    "        board[0][niter] = 1\n",
    "        \n",
    "        mapping = gen_rules(rule)\n",
    "        \n",
    "        for i in range(1, niter):\n",
    "            for j in range(1, 2 * niter):\n",
    "                board[i][j] = mapping[(board[i - 1][j - 1], board[i - 1][j], board[i - 1][j + 1])]\n",
    "        \n",
    "        ax[k // 3, k % 3].imshow(board[:,1:-1], cmap=\"Greys\")\n",
    "        ax[k // 3, k % 3].set_title('Rule %i' % rule)\n",
    "        ax[k // 3, k % 3].axis('off')\n",
    "    \n",
    "    plt.tight_layout()\n",
    "    plt.show()\n",
    "\n",
    "rules = [30, 54, 60, 62, 90, 94, 102, 110, 122, 126, 150, 158, 182, 188, 190, 220, 222, 250]\n",
    "make_plots(rules, 16)\n"
   ]
  }
 ],
 "metadata": {
  "kernelspec": {
   "display_name": "Python 3",
   "language": "python",
   "name": "python3"
  },
  "language_info": {
   "codemirror_mode": {
    "name": "ipython",
    "version": 3
   },
   "file_extension": ".py",
   "mimetype": "text/x-python",
   "name": "python",
   "nbconvert_exporter": "python",
   "pygments_lexer": "ipython3",
   "version": "3.6.8"
  }
 },
 "nbformat": 4,
 "nbformat_minor": 2
}
