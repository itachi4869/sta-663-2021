{
 "cells": [
  {
   "cell_type": "markdown",
   "metadata": {},
   "source": [
    "# Topic Modeling wiht Latent Semantic Analysis"
   ]
  },
  {
   "cell_type": "markdown",
   "metadata": {},
   "source": [
    "Latent Semantic Analysis (LSA) is a method for reducing the dimnesionality of documents treated as a bag of words. It is used for document classification, clustering and retrieval. For example, LSA can be used to search for prior art given a new patent application. In this homework, we will implement a small library for simple latent semantic analysis as a practical example of the application of SVD. The ideas are very similar to PCA.\n",
    "\n",
    "We will implement a toy example of LSA to get familiar with the ideas. If you want to use LSA or similar methods for statiscal language analyis, the most efficient Python library is probably [gensim](https://radimrehurek.com/gensim/) - this also provides an online algorithm - i.e. the training information can be continuously updated. Other useful functions for processing natural language can be found in the [Natural Lnaguage Toolkit](http://www.nltk.org/)."
   ]
  },
  {
   "cell_type": "markdown",
   "metadata": {},
   "source": [
    "**Note**: The SVD from scipy.linalg performs a full decomposition, which is inefficient since we only need to decompose until we get the first k singluar values. If the SVD from `scipy.linalg` is too slow, please use the `sparsesvd` function from the [sparsesvd](https://pypi.python.org/pypi/sparsesvd/) package to perform SVD instead.  You can install in the usual way with \n",
    "```\n",
    "!pip install sparsesvd\n",
    "```\n",
    "\n",
    "Then import the following\n",
    "```python\n",
    "from sparsesvd import sparsesvd \n",
    "from scipy.sparse import csc_matrix \n",
    "```\n",
    "\n",
    "and use as follows\n",
    "```python\n",
    "sparsesvd(csc_matrix(M), k=10)\n",
    "```"
   ]
  },
  {
   "cell_type": "code",
   "execution_count": 1,
   "metadata": {},
   "outputs": [],
   "source": [
    "%matplotlib inline\n",
    "import numpy as np\n",
    "import matplotlib.pyplot as plt\n",
    "import pandas as pd\n",
    "import scipy.linalg as la\n",
    "import scipy.stats as st"
   ]
  },
  {
   "cell_type": "markdown",
   "metadata": {},
   "source": [
    "**Exercise 1 (10 points)**.  Calculating pairwise distance matrices.\n",
    "\n",
    "Suppose we want to construct a distance matrix between the rows of a matrix. For example, given the matrix \n",
    "\n",
    "```python\n",
    "M = np.array([[1,2,3],[4,5,6]])\n",
    "```\n",
    "\n",
    "the distance matrix using Euclidean distance as the measure would be\n",
    "```python\n",
    "[[ 0.000  1.414  2.828]\n",
    " [ 1.414  0.000  1.414]\n",
    " [ 2.828  1.414  0.000]] \n",
    "```\n",
    "if $M$ was a collection of column vectors.\n",
    "\n",
    "Write a function to calculate the pairwise-distance matrix given the matrix $M$ and some arbitrary distance function. Your functions should have the following signature:\n",
    "```\n",
    "def func_name(M, distance_func):\n",
    "    pass\n",
    "```\n",
    "\n",
    "0. Write a distance function for the Euclidean, squared Euclidean and cosine measures.\n",
    "1. Write the function using looping for M as a collection of row vectors.\n",
    "2. Write the function using looping for M as a collection of column vectors.\n",
    "3. Wrtie the function using broadcasting for M as a colleciton of row vectors.\n",
    "4. Write the function using broadcasting for M as a colleciton of column vectors. \n",
    "\n",
    "For 3 and 4, try to avoid using transposition (but if you get stuck, there will be no penalty for using transpoition). Check that all four functions give the same result when applied to the given matrix $M$."
   ]
  },
  {
   "cell_type": "code",
   "execution_count": 2,
   "metadata": {},
   "outputs": [],
   "source": [
    "# Questions 1.1 to 1.5\n",
    "\n",
    "def squared_euclidean_norm(u, axis=-1):\n",
    "    return (u**2).sum(axis)\n",
    "\n",
    "def euclidean_norm(u, axis=-1):\n",
    "    return np.sqrt(squared_euclidean_norm(u, axis))\n",
    "\n",
    "def squared_euclidean_dist(u, v, axis=-1):\n",
    "    \"\"\"Returns squared Euclidean distance between two vectors.\"\"\"\n",
    "    return squared_euclidean_norm(u-v, axis)\n",
    "\n",
    "def euclidean_dist(u, v, axis=-1):\n",
    "    \"\"\"Return Euclidean distacne between two vectors.\"\"\"\n",
    "    return np.sqrt(squared_euclidean_dist(u, v, axis))\n",
    "    \n",
    "def cosine_dist(u, v, axis=-1):\n",
    "    \"\"\"Returns cosine of angle betwwen two vectors.\"\"\"\n",
    "    # return 1 - np.dot(u, v)/(la.norm(u)*la.norm(v))\n",
    "    return 1 - (u * v).sum(axis)/(euclidean_norm(u, axis) * euclidean_norm(v, axis))\n",
    "\n",
    "def loop_row_pdist(M, f):\n",
    "    \"\"\"REturns pairwise-distance matrix assuming M consists of row vectors..\"\"\"\n",
    "    nrows, ncols = M.shape\n",
    "    return np.array([[f(M[u,:], M[v,:]) for u in range(nrows)] \n",
    "                                        for v in range(nrows)])\n",
    "\n",
    "def loop_col_pdist(M, f):\n",
    "    \"\"\"REturns pairwise-distance matrix assuming M consists of column vectors..\"\"\"\n",
    "    nrows, ncols = M.shape\n",
    "    return np.array([[f(M[:,u], M[:,v]) for u in range(ncols)] \n",
    "                                        for v in range(ncols)])\n",
    "\n",
    "def broadcast_row_pdist(M, f):\n",
    "    \"\"\"REturns pairwise-distance matrix assuming M consists of row vectors..\"\"\"\n",
    "    return f(M[None,:,:], M[:,None,:])\n",
    "\n",
    "def broadcast_col_pdist(M, f):\n",
    "    \"\"\"REturns pairwise-distance matrix assuming M consists of column vectors..\"\"\"\n",
    "    return f(M[:,None,:], M[:,:,None], axis=0)"
   ]
  },
  {
   "cell_type": "code",
   "execution_count": 3,
   "metadata": {},
   "outputs": [
    {
     "name": "stdout",
     "output_type": "stream",
     "text": [
      "[[0.00000000e+00 2.53681538e-02]\n",
      " [2.53681538e-02 2.22044605e-16]] \n",
      "\n",
      "[[0.00000000e+00 2.53681538e-02]\n",
      " [2.53681538e-02 2.22044605e-16]] \n",
      "\n",
      "[[ 0.00000000e+00  9.16983196e-03  2.38129398e-02]\n",
      " [ 9.16983196e-03 -2.22044605e-16  3.45424176e-03]\n",
      " [ 2.38129398e-02  3.45424176e-03  1.11022302e-16]] \n",
      "\n",
      "[[ 0.00000000e+00  9.16983196e-03  2.38129398e-02]\n",
      " [ 9.16983196e-03 -2.22044605e-16  3.45424176e-03]\n",
      " [ 2.38129398e-02  3.45424176e-03  1.11022302e-16]]\n",
      "[[0.         5.19615242]\n",
      " [5.19615242 0.        ]] \n",
      "\n",
      "[[0.         5.19615242]\n",
      " [5.19615242 0.        ]] \n",
      "\n",
      "[[0.         1.41421356 2.82842712]\n",
      " [1.41421356 0.         1.41421356]\n",
      " [2.82842712 1.41421356 0.        ]] \n",
      "\n",
      "[[0.         1.41421356 2.82842712]\n",
      " [1.41421356 0.         1.41421356]\n",
      " [2.82842712 1.41421356 0.        ]]\n",
      "[[ 0 27]\n",
      " [27  0]] \n",
      "\n",
      "[[ 0 27]\n",
      " [27  0]] \n",
      "\n",
      "[[0 2 8]\n",
      " [2 0 2]\n",
      " [8 2 0]] \n",
      "\n",
      "[[0 2 8]\n",
      " [2 0 2]\n",
      " [8 2 0]]\n"
     ]
    }
   ],
   "source": [
    "# Q1 checking reuslts\n",
    "\n",
    "M = np.array([[1,2,3],[4,5,6]])\n",
    "\n",
    "# dist = euclidean_dist\n",
    "for dist in (cosine_dist, euclidean_dist, squared_euclidean_dist):\n",
    "    print(loop_row_pdist(M, dist), '\\n')\n",
    "    print(broadcast_row_pdist(M, dist), '\\n')\n",
    "    print(loop_col_pdist(M, dist), '\\n')\n",
    "    print(broadcast_col_pdist(M, dist))"
   ]
  },
  {
   "cell_type": "markdown",
   "metadata": {},
   "source": [
    "**Exercise 2 (20 points)**. Write 3 functions to calculate the term frequency (tf), the inverse document frequency (idf) and the product (tf-idf). Each function should take a single argument `docs`, which is a dictionary of (key=identifier, value=dcoument text) pairs, and return an appropriately sized array. Convert '-' to ' ' (space), remove punctuation, convert text to lowercase and split on whitespace to generate a collection of terms from the dcoument text.\n",
    "\n",
    "- tf = the number of occurrences of term $i$ in document $j$\n",
    "- idf = $\\log \\frac{n}{1 + \\text{df}_i}$ where $n$ is the total number of documents and $\\text{df}_i$ is the number of documents in which term $i$ occurs.\n",
    "\n",
    "Print the table of tf-idf values for the following document collection\n",
    "\n",
    "```\n",
    "s1 = \"The quick brown fox\"\n",
    "s2 = \"Brown fox jumps over the jumps jumps jumps\"\n",
    "s3 = \"The the the lazy dog elephant.\"\n",
    "s4 = \"The the the the the dog peacock lion tiger elephant\"\n",
    "\n",
    "docs = {'s1': s1, 's2': s2, 's3': s3, 's4': s4}\n",
    "```"
   ]
  },
  {
   "cell_type": "code",
   "execution_count": 21,
   "metadata": {},
   "outputs": [],
   "source": [
    "# Questino 2.1\n",
    "def tf(doc):\n",
    "    \"\"\"Returns the number of times each term occurs in a dcoument.\n",
    "    We preprocess the document to strip punctuation and convert to lowercase.\n",
    "    Terms are found by splitting on whitespace.\"\"\"\n",
    "    from collections import Counter\n",
    "    from string import punctuation\n",
    "\n",
    "    terms = doc.lower().replace('-', ' ').translate(str.maketrans('','',punctuation)).split()\n",
    "    return Counter(terms)\n",
    "\n",
    "def tfs(docs):\n",
    "    \"\"\"Create a term freqeuncy dataframe from a dictionary of documents.\"\"\"\n",
    "    from operator import add\n",
    "\n",
    "    df = pd.DataFrame({k: tf(v) for k, v in docs.items()}).fillna(0)\n",
    "    return df\n",
    "\n",
    "# Question 2.2\n",
    "def idf(docs):\n",
    "    \"\"\"Find inverse document frequecny series from a dictionry of doucmnets.\"\"\"\n",
    "    term_freq = tfs(docs)\n",
    "    num_docs = len(docs)\n",
    "    doc_freq = (term_freq > 0).sum(axis=1)\n",
    "    return np.log(num_docs/(1 + doc_freq))\n",
    "\n",
    "# Question 2.3\n",
    "def tf_idf(docs):\n",
    "    \"\"\"Return the product of the term-frequency and inverse document freqeucny.\"\"\"\n",
    "    return tfs(docs).mul(idf(docs), axis=0)\n",
    "\n",
    "    # return tfs(docs) * idf(docs)[:, None]"
   ]
  },
  {
   "cell_type": "code",
   "execution_count": 5,
   "metadata": {
    "scrolled": true
   },
   "outputs": [
    {
     "data": {
      "text/html": [
       "<div>\n",
       "<style scoped>\n",
       "    .dataframe tbody tr th:only-of-type {\n",
       "        vertical-align: middle;\n",
       "    }\n",
       "\n",
       "    .dataframe tbody tr th {\n",
       "        vertical-align: top;\n",
       "    }\n",
       "\n",
       "    .dataframe thead th {\n",
       "        text-align: right;\n",
       "    }\n",
       "</style>\n",
       "<table border=\"1\" class=\"dataframe\">\n",
       "  <thead>\n",
       "    <tr style=\"text-align: right;\">\n",
       "      <th></th>\n",
       "      <th>s1</th>\n",
       "      <th>s2</th>\n",
       "      <th>s3</th>\n",
       "      <th>s4</th>\n",
       "    </tr>\n",
       "  </thead>\n",
       "  <tbody>\n",
       "    <tr>\n",
       "      <th>the</th>\n",
       "      <td>-0.223144</td>\n",
       "      <td>-0.223144</td>\n",
       "      <td>-0.669431</td>\n",
       "      <td>-1.115718</td>\n",
       "    </tr>\n",
       "    <tr>\n",
       "      <th>quick</th>\n",
       "      <td>0.693147</td>\n",
       "      <td>0.000000</td>\n",
       "      <td>0.000000</td>\n",
       "      <td>0.000000</td>\n",
       "    </tr>\n",
       "    <tr>\n",
       "      <th>brown</th>\n",
       "      <td>0.287682</td>\n",
       "      <td>0.287682</td>\n",
       "      <td>0.000000</td>\n",
       "      <td>0.000000</td>\n",
       "    </tr>\n",
       "    <tr>\n",
       "      <th>fox</th>\n",
       "      <td>0.287682</td>\n",
       "      <td>0.287682</td>\n",
       "      <td>0.000000</td>\n",
       "      <td>0.000000</td>\n",
       "    </tr>\n",
       "    <tr>\n",
       "      <th>jumps</th>\n",
       "      <td>0.000000</td>\n",
       "      <td>2.772589</td>\n",
       "      <td>0.000000</td>\n",
       "      <td>0.000000</td>\n",
       "    </tr>\n",
       "    <tr>\n",
       "      <th>over</th>\n",
       "      <td>0.000000</td>\n",
       "      <td>0.693147</td>\n",
       "      <td>0.000000</td>\n",
       "      <td>0.000000</td>\n",
       "    </tr>\n",
       "    <tr>\n",
       "      <th>lazy</th>\n",
       "      <td>0.000000</td>\n",
       "      <td>0.000000</td>\n",
       "      <td>0.693147</td>\n",
       "      <td>0.000000</td>\n",
       "    </tr>\n",
       "    <tr>\n",
       "      <th>dog</th>\n",
       "      <td>0.000000</td>\n",
       "      <td>0.000000</td>\n",
       "      <td>0.287682</td>\n",
       "      <td>0.287682</td>\n",
       "    </tr>\n",
       "    <tr>\n",
       "      <th>elephant</th>\n",
       "      <td>0.000000</td>\n",
       "      <td>0.000000</td>\n",
       "      <td>0.287682</td>\n",
       "      <td>0.287682</td>\n",
       "    </tr>\n",
       "    <tr>\n",
       "      <th>peacock</th>\n",
       "      <td>0.000000</td>\n",
       "      <td>0.000000</td>\n",
       "      <td>0.000000</td>\n",
       "      <td>0.693147</td>\n",
       "    </tr>\n",
       "    <tr>\n",
       "      <th>lion</th>\n",
       "      <td>0.000000</td>\n",
       "      <td>0.000000</td>\n",
       "      <td>0.000000</td>\n",
       "      <td>0.693147</td>\n",
       "    </tr>\n",
       "    <tr>\n",
       "      <th>tiger</th>\n",
       "      <td>0.000000</td>\n",
       "      <td>0.000000</td>\n",
       "      <td>0.000000</td>\n",
       "      <td>0.693147</td>\n",
       "    </tr>\n",
       "  </tbody>\n",
       "</table>\n",
       "</div>"
      ],
      "text/plain": [
       "                s1        s2        s3        s4\n",
       "the      -0.223144 -0.223144 -0.669431 -1.115718\n",
       "quick     0.693147  0.000000  0.000000  0.000000\n",
       "brown     0.287682  0.287682  0.000000  0.000000\n",
       "fox       0.287682  0.287682  0.000000  0.000000\n",
       "jumps     0.000000  2.772589  0.000000  0.000000\n",
       "over      0.000000  0.693147  0.000000  0.000000\n",
       "lazy      0.000000  0.000000  0.693147  0.000000\n",
       "dog       0.000000  0.000000  0.287682  0.287682\n",
       "elephant  0.000000  0.000000  0.287682  0.287682\n",
       "peacock   0.000000  0.000000  0.000000  0.693147\n",
       "lion      0.000000  0.000000  0.000000  0.693147\n",
       "tiger     0.000000  0.000000  0.000000  0.693147"
      ]
     },
     "execution_count": 5,
     "metadata": {},
     "output_type": "execute_result"
    }
   ],
   "source": [
    "# Question 2.4\n",
    "\n",
    "s1 = \"The quick brown fox\"\n",
    "s2 = \"Brown fox jumps over the jumps jumps jumps\"\n",
    "s3 = \"The the the lazy dog elephant.\"\n",
    "s4 = \"The the the the the dog peacock lion tiger elephant\"\n",
    "\n",
    "docs = {'s1': s1, 's2': s2, 's3': s3, 's4': s4}\n",
    "\n",
    "tf_idf(docs)"
   ]
  },
  {
   "cell_type": "markdown",
   "metadata": {},
   "source": [
    "**Exercise 3 (20 points)**. \n",
    "\n",
    "1. Write a function that takes a matrix $M$ and an integer $k$ as arguments, and reconstructs a reduced matrix using only the $k$ largest singular values. Use the `scipy.linagl.svd` function to perform the decomposition. This is the least squares approximation to the matrix $M$ in $k$ dimensions.\n",
    "\n",
    "2. Apply the function you just wrote to the following term-frequency matrix for a set of $9$ documents using $k=2$ and print the reconstructed matrix $M'$.\n",
    "```\n",
    "M = np.array([[1, 0, 0, 1, 0, 0, 0, 0, 0],\n",
    "       [1, 0, 1, 0, 0, 0, 0, 0, 0],\n",
    "       [1, 1, 0, 0, 0, 0, 0, 0, 0],\n",
    "       [0, 1, 1, 0, 1, 0, 0, 0, 0],\n",
    "       [0, 1, 1, 2, 0, 0, 0, 0, 0],\n",
    "       [0, 1, 0, 0, 1, 0, 0, 0, 0],\n",
    "       [0, 1, 0, 0, 1, 0, 0, 0, 0],\n",
    "       [0, 0, 1, 1, 0, 0, 0, 0, 0],\n",
    "       [0, 1, 0, 0, 0, 0, 0, 0, 1],\n",
    "       [0, 0, 0, 0, 0, 1, 1, 1, 0],\n",
    "       [0, 0, 0, 0, 0, 0, 1, 1, 1],\n",
    "       [0, 0, 0, 0, 0, 0, 0, 1, 1]])\n",
    "```\n",
    "\n",
    "3. Calculate the pairwise correlation matrix for the original matrix M and the reconstructed matrix using $k=2$ singular values (you may use [scipy.stats.spearmanr](http://docs.scipy.org/doc/scipy/reference/generated/scipy.stats.spearmanr.html) to do the calculations). Consider the fist 5 sets of documents as one group $G1$ and the last 4 as another group $G2$ (i.e. first 5 and last 4 columns). What is the average within group correlation for $G1$, $G2$ and the average cross-group correlation for G1-G2 using either $M$ or $M'$. (Do not include self-correlation in the within-group calculations.)."
   ]
  },
  {
   "cell_type": "code",
   "execution_count": 23,
   "metadata": {},
   "outputs": [],
   "source": [
    "def svd_projection(M, k):\n",
    "    \"\"\"Returns the matrix M reconstructed using only k singluar values\"\"\"\n",
    "    U, s, V = la.svd(M, full_matrices=False)\n",
    "    s[k:] = 0\n",
    "    M_ = U.dot(np.diag(s).dot(V))\n",
    "    return M_"
   ]
  },
  {
   "cell_type": "code",
   "execution_count": 58,
   "metadata": {},
   "outputs": [],
   "source": [
    "# Question 3.1\n",
    "\n",
    "def svd_projection(M, k):\n",
    "    \"\"\"Returns the matrix M reconstructed using only k singluar values\"\"\"\n",
    "    U, s, V = la.svd(M, full_matrices=False)\n",
    "    s[k:] = 0\n",
    "    M_ = U.dot(np.diag(s).dot(V))\n",
    "    \n",
    "    try:\n",
    "        return pd.DataFrame(M_, index=M.index, columns=M.columns)\n",
    "    except AttributeError:\n",
    "        return M_"
   ]
  },
  {
   "cell_type": "code",
   "execution_count": 59,
   "metadata": {},
   "outputs": [
    {
     "data": {
      "text/plain": [
       "array([[ 0.16205797,  0.40049828,  0.37895454,  0.46756626,  0.17595367,\n",
       "        -0.05265495, -0.11514284, -0.15910198, -0.09183827],\n",
       "       [ 0.14058529,  0.36980077,  0.32899603,  0.40042722,  0.16497247,\n",
       "        -0.03281545, -0.07056857, -0.09676827, -0.04298073],\n",
       "       [ 0.15244948,  0.50500444,  0.35793658,  0.41010678,  0.23623173,\n",
       "         0.02421652,  0.05978051,  0.0868573 ,  0.12396632],\n",
       "       [ 0.25804933,  0.84112343,  0.60571995,  0.69735717,  0.39231795,\n",
       "         0.03311801,  0.08324491,  0.12177239,  0.18737973],\n",
       "       [ 0.44878975,  1.23436483,  1.0508615 ,  1.26579559,  0.55633139,\n",
       "        -0.07378998, -0.15469383, -0.20959816, -0.04887954],\n",
       "       [ 0.15955428,  0.5816819 ,  0.37521897,  0.41689768,  0.27654052,\n",
       "         0.05590374,  0.1322185 ,  0.18891146,  0.21690761],\n",
       "       [ 0.15955428,  0.5816819 ,  0.37521897,  0.41689768,  0.27654052,\n",
       "         0.05590374,  0.1322185 ,  0.18891146,  0.21690761],\n",
       "       [ 0.21846278,  0.54958058,  0.51096047,  0.62805802,  0.24253607,\n",
       "        -0.06541098, -0.14252146, -0.19661186, -0.1079133 ],\n",
       "       [ 0.09690639,  0.53206438,  0.22991365,  0.21175363,  0.26652513,\n",
       "         0.13675618,  0.31462078,  0.44444058,  0.42496948],\n",
       "       [-0.06125388,  0.23210821, -0.1388984 , -0.26564589,  0.14492549,\n",
       "         0.24042105,  0.54614717,  0.7673742 ,  0.66370933],\n",
       "       [-0.06467702,  0.33528115, -0.14564055, -0.30140607,  0.20275641,\n",
       "         0.30572612,  0.69489337,  0.97661121,  0.84874969],\n",
       "       [-0.04308204,  0.25390566, -0.09666695, -0.20785821,  0.1519134 ,\n",
       "         0.22122703,  0.50294488,  0.70691163,  0.6155044 ]])"
      ]
     },
     "execution_count": 59,
     "metadata": {},
     "output_type": "execute_result"
    }
   ],
   "source": [
    "# Qeustion 3.2\n",
    "\n",
    "M = np.array([[1, 0, 0, 1, 0, 0, 0, 0, 0],\n",
    "    [1, 0, 1, 0, 0, 0, 0, 0, 0],\n",
    "    [1, 1, 0, 0, 0, 0, 0, 0, 0],\n",
    "    [0, 1, 1, 0, 1, 0, 0, 0, 0],\n",
    "    [0, 1, 1, 2, 0, 0, 0, 0, 0],\n",
    "    [0, 1, 0, 0, 1, 0, 0, 0, 0],\n",
    "    [0, 1, 0, 0, 1, 0, 0, 0, 0],\n",
    "    [0, 0, 1, 1, 0, 0, 0, 0, 0],\n",
    "    [0, 1, 0, 0, 0, 0, 0, 0, 1],\n",
    "    [0, 0, 0, 0, 0, 1, 1, 1, 0],\n",
    "    [0, 0, 0, 0, 0, 0, 1, 1, 1],\n",
    "    [0, 0, 0, 0, 0, 0, 0, 1, 1]])\n",
    "\n",
    "Md = svd_projection(M, 2)\n",
    "Md"
   ]
  },
  {
   "cell_type": "code",
   "execution_count": 54,
   "metadata": {},
   "outputs": [
    {
     "name": "stdout",
     "output_type": "stream",
     "text": [
      "0.010577686629862798\n",
      "0.26107062889188376\n"
     ]
    }
   ],
   "source": [
    "# Question 3.3\n",
    "\n",
    "# Results for full-rank matrix\n",
    "\n",
    "G1 = M[:, :5]\n",
    "G2 = M[:, 5:]\n",
    "cor_within_group = st.spearmanr(G1).correlation\n",
    "mean_cor_within_group = np.sum(la.triu(cor_within_group, 1)) /10\n",
    "cor_within_group2 = st.spearmanr(G2).correlation\n",
    "mean_cor_within_group2 = np.sum(la.triu(cor_within_group2, 1)) /10\n",
    "print(mean_cor_within_group)\n",
    "print(mean_cor_within_group2)"
   ]
  },
  {
   "cell_type": "code",
   "execution_count": 55,
   "metadata": {},
   "outputs": [
    {
     "data": {
      "text/plain": [
       "-0.30756218890559084"
      ]
     },
     "execution_count": 55,
     "metadata": {},
     "output_type": "execute_result"
    }
   ],
   "source": [
    "rho, pval = st.spearmanr(M) #9 by 9\n",
    "rho[5:, :5].mean()"
   ]
  },
  {
   "cell_type": "code",
   "execution_count": 56,
   "metadata": {},
   "outputs": [
    {
     "name": "stdout",
     "output_type": "stream",
     "text": [
      "0.8650795342544025\n",
      "0.5937062937062938\n"
     ]
    }
   ],
   "source": [
    "# Results after LSA\n",
    "# G1/G1, G2/G2 and G1/G2 average correlation\n",
    "\n",
    "G1 = Md[:, :5]\n",
    "G2 = Md[:, 5:]\n",
    "cor_within_group = st.spearmanr(G1).correlation\n",
    "mean_cor_within_group = np.sum(la.triu(cor_within_group, 1)) /10\n",
    "cor_within_group2 = st.spearmanr(G2).correlation\n",
    "mean_cor_within_group2 = np.sum(la.triu(cor_within_group2, 1)) /10\n",
    "print(mean_cor_within_group)\n",
    "print(mean_cor_within_group2)"
   ]
  },
  {
   "cell_type": "code",
   "execution_count": 57,
   "metadata": {},
   "outputs": [
    {
     "data": {
      "text/plain": [
       "-0.6772813081926677"
      ]
     },
     "execution_count": 57,
     "metadata": {},
     "output_type": "execute_result"
    }
   ],
   "source": [
    "rho, pval = st.spearmanr(Md)\n",
    "rho[5:, :5].mean()"
   ]
  },
  {
   "cell_type": "markdown",
   "metadata": {},
   "source": [
    "**Exercise 4 (40 points)**. Clustering with LSA\n",
    "\n",
    "1. Begin by loading a pubmed database of selected article titles using 'pickle'. With the following:\n",
    "```import pickle\n",
    "docs = pickle.load(open('pubmed.pic', 'rb'))```\n",
    "\n",
    "    Create a tf-idf matrix for every term that appears at least once in any of the documents. What is the shape of the tf-idf matrix? \n",
    "\n",
    "2. Perform SVD on the tf-idf matrix to obtain $U \\Sigma V^T$ (often written as $T \\Sigma D^T$ in this context with $T$ representing the terms and $D$ representing the documents). If we set all but the top $k$ singular values to 0, the reconstructed matrix is essentially $U_k \\Sigma_k V_k^T$, where $U_k$ is $m \\times k$, $\\Sigma_k$ is $k \\times k$ and $V_k^T$ is $k \\times n$. Terms in this reduced space are represented by $U_k \\Sigma_k$ and documents by $\\Sigma_k V^T_k$. Reconstruct the matrix using the first $k=10$ singular values.\n",
    "\n",
    "3. Use agglomerative hierachical clustering with complete linkage to plot a dendrogram and comment on the likely number of  document clusters with $k = 100$. Use the dendrogram function from [SciPy ](https://docs.scipy.org/doc/scipy-0.15.1/reference/generated/scipy.cluster.hierarchy.dendrogram.html).\n",
    "\n",
    "4. Determine how similar each of the original documents is to the new document `mystery.txt`. Since $A = U \\Sigma V^T$, we also have $V = A^T U S^{-1}$ using orthogonality and the rule for transposing matrix products. This suggests that in order to map the new document to the same concept space, first find the tf-idf vector $v$ for the new document - this must contain all (and only) the terms present in the existing tf-idx matrix. Then the query vector $q$ is given by $v^T U_k \\Sigma_k^{-1}$. Find the 10 documents most similar to the new document and the 10 most dissimilar. "
   ]
  },
  {
   "cell_type": "code",
   "execution_count": 58,
   "metadata": {},
   "outputs": [
    {
     "data": {
      "text/plain": [
       "(6488, 178)"
      ]
     },
     "execution_count": 58,
     "metadata": {},
     "output_type": "execute_result"
    }
   ],
   "source": [
    "# Quesiton 4.1\n",
    "\n",
    "import pickle\n",
    "\n",
    "docs = pickle.load(open('pubmed.pic', 'rb'))\n",
    "df = tf_idf(docs)\n",
    "df.shape"
   ]
  },
  {
   "cell_type": "code",
   "execution_count": 59,
   "metadata": {},
   "outputs": [
    {
     "name": "stdout",
     "output_type": "stream",
     "text": [
      "(6488, 6488) (178,) (178, 178) \n",
      "\n"
     ]
    },
    {
     "data": {
      "text/plain": [
       "array([[ 6.86673422e+00,  3.65522481e-02, -2.55095575e-02, ...,\n",
       "         1.58562741e-01,  3.97661045e-02,  4.01704711e-02],\n",
       "       [ 8.68535607e+00, -5.44703800e-02, -7.41685745e-02, ...,\n",
       "        -8.35117856e-02, -1.12932222e-03,  3.42304492e-02],\n",
       "       [-1.11304267e-01, -6.68428904e-02, -5.13236099e-02, ...,\n",
       "        -6.75714875e-02, -2.37799181e-02, -2.85583685e-02],\n",
       "       ...,\n",
       "       [ 1.71152246e-02,  2.36495790e-02,  2.05984131e-02, ...,\n",
       "         3.87415631e-03,  6.01102856e-03,  1.16392836e-02],\n",
       "       [ 1.71152246e-02,  2.36495790e-02,  2.05984131e-02, ...,\n",
       "         3.87415631e-03,  6.01102856e-03,  1.16392836e-02],\n",
       "       [ 1.71152246e-02,  2.36495790e-02,  2.05984131e-02, ...,\n",
       "         3.87415631e-03,  6.01102856e-03,  1.16392836e-02]])"
      ]
     },
     "execution_count": 59,
     "metadata": {},
     "output_type": "execute_result"
    }
   ],
   "source": [
    "# Question 4.2\n",
    "\n",
    "k = 10\n",
    "T, s, D = la.svd(df)\n",
    "\n",
    "print(T.shape, s.shape, D.shape, '\\n')\n",
    "\n",
    "df_10 = T[:,:k].dot(np.diag(s[:k]).dot(D[:k,:]))\n",
    "assert(df.shape == df_10.shape)\n",
    "df_10"
   ]
  },
  {
   "cell_type": "code",
   "execution_count": 60,
   "metadata": {},
   "outputs": [
    {
     "name": "stdout",
     "output_type": "stream",
     "text": [
      "(6488, 178) (178,) (178, 178) \n",
      "\n"
     ]
    },
    {
     "data": {
      "text/plain": [
       "array([[ 6.86673422e+00,  3.65522481e-02, -2.55095575e-02, ...,\n",
       "         1.58562741e-01,  3.97661045e-02,  4.01704711e-02],\n",
       "       [ 8.68535607e+00, -5.44703800e-02, -7.41685745e-02, ...,\n",
       "        -8.35117856e-02, -1.12932222e-03,  3.42304492e-02],\n",
       "       [-1.11304267e-01, -6.68428904e-02, -5.13236099e-02, ...,\n",
       "        -6.75714875e-02, -2.37799181e-02, -2.85583685e-02],\n",
       "       ...,\n",
       "       [ 1.71152246e-02,  2.36495790e-02,  2.05984131e-02, ...,\n",
       "         3.87415631e-03,  6.01102856e-03,  1.16392836e-02],\n",
       "       [ 1.71152246e-02,  2.36495790e-02,  2.05984131e-02, ...,\n",
       "         3.87415631e-03,  6.01102856e-03,  1.16392836e-02],\n",
       "       [ 1.71152246e-02,  2.36495790e-02,  2.05984131e-02, ...,\n",
       "         3.87415631e-03,  6.01102856e-03,  1.16392836e-02]])"
      ]
     },
     "execution_count": 60,
     "metadata": {},
     "output_type": "execute_result"
    }
   ],
   "source": [
    "# Question 4.2 (alternative solution 1 setting unwanted singluar values to zero)\n",
    "\n",
    "T, s, D = la.svd(df, full_matrices=False)\n",
    "print(T.shape, s.shape, D.shape, '\\n')\n",
    "\n",
    "s[10:] = 0\n",
    "df_10 = T.dot(np.diag(s).dot(D))\n",
    "assert(df.shape == df_10.shape)\n",
    "df_10"
   ]
  },
  {
   "cell_type": "code",
   "execution_count": 6,
   "metadata": {},
   "outputs": [
    {
     "name": "stdout",
     "output_type": "stream",
     "text": [
      "Requirement already satisfied: sparsesvd in /opt/conda/lib/python3.6/site-packages (0.2.2)\n",
      "Requirement already satisfied: cython in /opt/conda/lib/python3.6/site-packages (from sparsesvd) (0.29.14)\n",
      "Requirement already satisfied: scipy>=0.6.0 in /opt/conda/lib/python3.6/site-packages (from sparsesvd) (1.4.1)\n",
      "Requirement already satisfied: numpy>=1.13.3 in /opt/conda/lib/python3.6/site-packages (from scipy>=0.6.0->sparsesvd) (1.18.1)\n",
      "\u001b[33mWARNING: You are using pip version 20.0.2; however, version 21.0.1 is available.\n",
      "You should consider upgrading via the '/opt/conda/bin/python -m pip install --upgrade pip' command.\u001b[0m\n"
     ]
    }
   ],
   "source": [
    "! pip install sparsesvd"
   ]
  },
  {
   "cell_type": "code",
   "execution_count": 62,
   "metadata": {},
   "outputs": [
    {
     "name": "stdout",
     "output_type": "stream",
     "text": [
      "(10, 6488) (10,) (10, 178) \n",
      "\n",
      "[[ 6.86673422e+00  3.65522483e-02 -2.55095574e-02 ...  1.58562741e-01\n",
      "   3.97661046e-02  4.01704712e-02]\n",
      " [ 8.68535607e+00 -5.44703798e-02 -7.41685743e-02 ... -8.35117852e-02\n",
      "  -1.12932215e-03  3.42304493e-02]\n",
      " [-1.11304267e-01 -6.68428904e-02 -5.13236099e-02 ... -6.75714875e-02\n",
      "  -2.37799182e-02 -2.85583685e-02]\n",
      " ...\n",
      " [ 1.71152246e-02  2.36495790e-02  2.05984131e-02 ...  3.87415631e-03\n",
      "   6.01102856e-03  1.16392836e-02]\n",
      " [ 1.71152246e-02  2.36495790e-02  2.05984131e-02 ...  3.87415631e-03\n",
      "   6.01102856e-03  1.16392836e-02]\n",
      " [ 1.71152246e-02  2.36495790e-02  2.05984131e-02 ...  3.87415631e-03\n",
      "   6.01102856e-03  1.16392836e-02]]\n"
     ]
    }
   ],
   "source": [
    "# Question 4.2 (alternative solution 2 using sparsesvd)\n",
    "\n",
    "from scipy.sparse import csc_matrix \n",
    "from sparsesvd import sparsesvd \n",
    "\n",
    "k = 10\n",
    "T, s, D = sparsesvd(csc_matrix(df), k=k)\n",
    "\n",
    "print(T.shape, s.shape, D.shape, '\\n')\n",
    "df_10 = T.T.dot(np.diag(s).dot(D))\n",
    "assert(df.shape == df_10.shape)\n",
    "print(df_10)"
   ]
  },
  {
   "cell_type": "code",
   "execution_count": 63,
   "metadata": {
    "scrolled": true
   },
   "outputs": [
    {
     "data": {
      "image/png": "[encoded data removed]",
      "text/plain": [
       "<Figure size 1152x2592 with 1 Axes>"
      ]
     },
     "metadata": {},
     "output_type": "display_data"
    }
   ],
   "source": [
    "# Question 4.3\n",
    "\n",
    "from scipy.cluster.hierarchy import linkage, dendrogram\n",
    "from scipy.spatial.distance import pdist, squareform\n",
    "\n",
    "plt.figure(figsize=(16,36))\n",
    "T, s, D = sparsesvd(csc_matrix(df), k=100)\n",
    "x = np.diag(s).dot(D).T\n",
    "data_dist = pdist(x) # computing the distance\n",
    "data_link = linkage(data_dist, method = 'complete') # computing the linkage\n",
    "\n",
    "R = dendrogram(data_link, orientation='right')"
   ]
  },
  {
   "cell_type": "code",
   "execution_count": 65,
   "metadata": {},
   "outputs": [
    {
     "data": {
      "image/png": "[encoded data removed]",
      "text/plain": [
       "<Figure size 1152x2592 with 1 Axes>"
      ]
     },
     "metadata": {},
     "output_type": "display_data"
    }
   ],
   "source": [
    "# Question 4.3 alternative\n",
    "\n",
    "from scipy.cluster.hierarchy import linkage, dendrogram\n",
    "from scipy.spatial.distance import pdist, squareform\n",
    "\n",
    "plt.figure(figsize=(16,36))\n",
    "T, s, D = sparsesvd(csc_matrix(df), k=100)\n",
    "x = np.diag(s).dot(D).T\n",
    "data_link = linkage(x, method = 'complete') # computing the linkage\n",
    "\n",
    "R = dendrogram(data_link, orientation='right')"
   ]
  },
  {
   "cell_type": "code",
   "execution_count": 78,
   "metadata": {},
   "outputs": [
    {
     "name": "stdout",
     "output_type": "stream",
     "text": [
      "Query article:\n",
      "﻿Intensive blood-glucose control with sulphonylureas or insulin compared with conventional treatment and risk of complications in patients with type 2 diabetes\n",
      "\n",
      "Most similar\n",
      "================================================================================\n",
      "000 IRGM3 contributes to immunopathology and is required for differentiation of antigen-specific effector CD8+ T cells in experimental cerebral malaria.\n",
      "001 CD40 Is Required for Protective Immunity against Liver Stage Plasmodium Infection.\n",
      "002 CD4 T-cell subsets in malaria: TH1/TH2 revisited.\n",
      "003 Antibodies to the Plasmodium falciparum proteins MSPDBL1 and MSPDBL2 opsonise merozoites, inhibit parasite growth and predict protection from clinical malaria.\n",
      "004 Crystal Structures of the Carboxyl cGMP Binding Domain of the Plasmodium falciparum cGMP-dependent Protein Kinase Reveal a Novel Capping Triad Crucial for Merozoite Egress.\n",
      "005 Dopamine Increases CD14+CD16+ Monocyte Migration and Adhesion in the Context of Substance Abuse and HIV Neuropathogenesis.\n",
      "006 Nerve Growth Factor Potentiates Nicotinic Synaptic Transmission in Mouse Airway Parasympathetic Neurons.\n",
      "007 Avian haemosporidians from Neotropical highlands: Evidence from morphological and molecular data.\n",
      "008 ERK1/2 promoted proliferation and inhibited apoptosis of human cervical cancer cells and regulated the expression of c-Fos and c-Jun proteins.\n",
      "009 Phenotypic profiling of CD8 + T cells during Plasmodium vivax blood-stage infection.\n",
      "\n",
      "Most dissimilar\n",
      "================================================================================\n",
      "178 Efficacy and Safety of Saxagliptin as Add-On Therapy in Type 2 Diabetes.\n",
      "177 Evaluating the toxic and beneficial effects of lichen extracts in normal and diabetic rats.\n",
      "176 Gestational Diabetes Mellitus Screening Using the One-Step Versus Two-Step Method in a High-Risk Practice.\n",
      "175 Outcomes of a Diabetes Education Program for Registered Nurses Caring for Individuals With Diabetes.\n",
      "174 Prevalence and Determinants of Anemia in Older People With Diabetes Attending an Outpatient Clinic: A Cross-Sectional Audit.\n",
      "173 Disparities in Postpartum Follow-Up in Women With Gestational Diabetes Mellitus.\n",
      "172 Demographic Disparities Among Medicare Beneficiaries with Type 2 Diabetes Mellitus in 2011: Diabetes Prevalence, Comorbidities, and Hypoglycemia Events.\n",
      "171 Health Care Utilization Among U.S. Adults With Diagnosed Diabetes, 2013.\n",
      "170 Feasibility of the SMART Project: A Text Message Program for Adolescents With Type 1 Diabetes.\n",
      "169 Diabetes Numeracy and Blood Glucose Control: Association With Type of Diabetes and Source of Care.\n"
     ]
    }
   ],
   "source": [
    "# Quesiton 4.4\n",
    "\n",
    "\n",
    "T, s, D = sparsesvd(csc_matrix(df), k=100) #k = 10\n",
    "\n",
    "doc = {'mystery': open('mystery.txt').read()}\n",
    "terms = tf_idf(doc) ######## or calculate the idf from the original text corpus\n",
    "query_terms = df.join(terms).fillna(0)['mystery']\n",
    "q = query_terms.T.dot(T.T.dot(np.diag(1.0/s)))\n",
    "\n",
    "ranked_docs = df.columns[np.argsort(cosine_dist(q, x))]\n",
    "print(\"Query article:\", )\n",
    "print(' '.join(line.strip() for line in doc['mystery'].splitlines()[:2]))\n",
    "print()\n",
    "print(\"Most similar\")\n",
    "print('='*80)\n",
    "for i, title in enumerate(ranked_docs[:10]):\n",
    "    print('%03d' % i, title)\n",
    "\n",
    "print()\n",
    "print(\"Most dissimilar\")\n",
    "print('='*80)\n",
    "for i, title in enumerate(ranked_docs[-10:]):\n",
    "    print('%03d' % (len(docs) - i), title)"
   ]
  },
  {
   "cell_type": "markdown",
   "metadata": {},
   "source": [
    "Notes on the Pubmed articles\n",
    "----\n",
    "\n",
    "These were downloaded with the following script.\n",
    "\n",
    "```python\n",
    "from Bio import Entrez, Medline\n",
    "Entrez.email = \"YOUR EMAIL HERE\"\n",
    "import pickle\n",
    "\n",
    "try:\n",
    "    docs = pickle.load(open('pubmed.pic', 'rb'))\n",
    "except Exception, e:\n",
    "    print e\n",
    "\n",
    "    docs = {}\n",
    "    for term in ['plasmodium', 'diabetes', 'asthma', 'cytometry']:\n",
    "        handle = Entrez.esearch(db=\"pubmed\", term=term, retmax=50)\n",
    "        result = Entrez.read(handle)\n",
    "        handle.close()\n",
    "        idlist = result[\"IdList\"]\n",
    "        handle2 = Entrez.efetch(db=\"pubmed\", id=idlist, rettype=\"medline\", retmode=\"text\")\n",
    "        result2 = Medline.parse(handle2)\n",
    "        for record in result2:\n",
    "            title = record.get(\"TI\", None)\n",
    "            abstract = record.get(\"AB\", None)\n",
    "            if title is None or abstract is None:\n",
    "                continue\n",
    "            docs[title] = '\\n'.join([title, abstract])\n",
    "            print(title)\n",
    "        handle2.close()\n",
    "    pickle.dump(docs, open('pubmed.pic', 'wb'))\n",
    "docs.values()\n",
    "```"
   ]
  },
  {
   "cell_type": "code",
   "execution_count": null,
   "metadata": {
    "collapsed": true
   },
   "outputs": [],
   "source": []
  }
 ],
 "metadata": {
  "kernelspec": {
   "display_name": "Python 3",
   "language": "python",
   "name": "python3"
  },
  "language_info": {
   "codemirror_mode": {
    "name": "ipython",
    "version": 3
   },
   "file_extension": ".py",
   "mimetype": "text/x-python",
   "name": "python",
   "nbconvert_exporter": "python",
   "pygments_lexer": "ipython3",
   "version": "3.6.10"
  },
  "latex_envs": {
   "bibliofile": "biblio.bib",
   "cite_by": "apalike",
   "current_citInitial": 1,
   "eqLabelWithNumbers": true,
   "eqNumInitial": 0
  }
 },
 "nbformat": 4,
 "nbformat_minor": 1
}
