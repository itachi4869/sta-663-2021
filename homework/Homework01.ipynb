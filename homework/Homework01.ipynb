{
 "cells": [
  {
   "cell_type": "code",
   "execution_count": 25,
   "metadata": {},
   "outputs": [],
   "source": [
    "import numpy as np"
   ]
  },
  {
   "cell_type": "markdown",
   "metadata": {},
   "source": [
    "**1**. (25 points)\n",
    "\n",
    "The following iterative sequence is defined for the set of positive integers:\n",
    "\n",
    "- n → n/2 (n is even)\n",
    "- n → 3n + 1 (n is odd)\n",
    "\n",
    "Using the rule above and starting with 13, we generate the following sequence:\n",
    "\n",
    "13 → 40 → 20 → 10 → 5 → 16 → 8 → 4 → 2 → 1\n",
    "\n",
    "It can be seen that this sequence (starting at 13 and finishing at 1) contains 10 terms. Although it has not been proved yet (Collatz Problem), it is thought that all starting numbers finish at 1.\n",
    "\n",
    "Which starting number, under one million, produces the longest chain?\n",
    "\n",
    "NOTE: Once the chain starts the terms are allowed to go above one million."
   ]
  },
  {
   "cell_type": "code",
   "execution_count": 23,
   "metadata": {},
   "outputs": [
    {
     "name": "stdout",
     "output_type": "stream",
     "text": [
      "837798\n"
     ]
    }
   ],
   "source": [
    "num = dict()\n",
    "\n",
    "def collatz(value):\n",
    "    \n",
    "    if value == 1:\n",
    "        return 1\n",
    "    if value in num.keys():\n",
    "        return num[value]\n",
    "    \n",
    "    length = 0\n",
    "    if value % 2:\n",
    "        length = collatz(3 * value + 1)\n",
    "    else:\n",
    "        length = collatz(int(value / 2))\n",
    "\n",
    "    num[value] = length + 1\n",
    "    return num[value]\n",
    "\n",
    "lengths = [collatz(x) for x in range(1, int(1e6) + 1)]\n",
    "print(lengths.index(max(lengths)))\n"
   ]
  },
  {
   "cell_type": "markdown",
   "metadata": {},
   "source": [
    "**2** (25 points)\n",
    "\n",
    "\n",
    "- Perform the median polish to calculate just the *residuals* for this [example](https://mgimond.github.io/ES218/Week11a.html) in Python. \n",
    "- Use the matrix `xs` provided\n",
    "- Display the final result after 3 iterations to 1 decimal place and check if it agrees with \n",
    "\n",
    "![img](https://mgimond.github.io/ES218/img/twoway_09.jpg)"
   ]
  },
  {
   "cell_type": "code",
   "execution_count": 146,
   "metadata": {},
   "outputs": [],
   "source": [
    "xs = np.array([\n",
    "    (25.3,32.1,38.8,25.4), \n",
    "    (25.3,29,31,21.1),\n",
    "    (18.2,18.8,19.3,20.3),\n",
    "    (18.3,24.3,15.7,24),\n",
    "    (16.3,19,16.8,17.5)\n",
    "]).T"
   ]
  },
  {
   "cell_type": "code",
   "execution_count": 147,
   "metadata": {},
   "outputs": [
    {
     "name": "stdout",
     "output_type": "stream",
     "text": [
      "[[20.6  7.6  6.  -0.9  0.2 -3.5]\n",
      " [-1.5 -1.4  0.2  0.  -1.   0.7]\n",
      " [ 2.5  1.4 -0.2 -3.4  1.  -0.7]\n",
      " [-0.3 11.   4.7 -0.  -4.7  0. ]\n",
      " [ 0.3 -3.1 -5.9  0.3  2.9  0. ]]\n"
     ]
    }
   ],
   "source": [
    "import pandas as pd\n",
    "np.set_printoptions(precision = 1)\n",
    "\n",
    "common_eff = round(np.median(xs), 1)\n",
    "xs -= common_eff\n",
    "row_eff = np.zeros(len(xs))\n",
    "col_eff = np.zeros(len(xs.T))\n",
    "\n",
    "for i in range(3):\n",
    "    \n",
    "    #row effects\n",
    "    row_med = np.median(xs, axis = 1)\n",
    "    col_eff_med = np.median(col_eff)\n",
    "    \n",
    "    row_eff += row_med\n",
    "    common_eff += col_eff_med\n",
    "    xs -= row_med[:, None]\n",
    "    col_eff -= col_eff_med\n",
    "    \n",
    "    # column effects\n",
    "    col_med = np.median(xs, axis = 0)\n",
    "    row_eff_med = np.median(row_eff)\n",
    "    \n",
    "    col_eff += col_med\n",
    "    common_eff += row_eff_med\n",
    "    xs -= col_med\n",
    "    row_eff -= row_eff_med\n",
    "\n",
    "df = np.array([col_eff] + list(xs))\n",
    "new_col = np.array([common_eff] + list(row_eff))\n",
    "df = np.array([new_col] + list(df.T)).T\n",
    "print(df)\n"
   ]
  },
  {
   "cell_type": "markdown",
   "metadata": {},
   "source": [
    "**3**. (50 points)\n",
    "\n",
    "A Caesar cipher is a very simple method of encoding and decoding data. The cipher simply replaces characters with the character offset by $k$ places. For example, if the offset is 3, we replace `a` with `d`, `b` with `e` etc. The cipher wraps around so we replace `y` with `b`, `z` with `c` and so on. Punctuation, spaces and numbers are left unchanged.\n",
    "\n",
    "- Write a function `encode` that takes as arguments a string and an integer offset and returns the encoded cipher.\n",
    "- Write a function `decode` that takes as arguments a cipher and an integer offset and returns the decoded string. \n",
    "- Write a function `auto_decode` that takes as argument a cipher and uses a statistical method to guess the optimal offset to decode the cipher, assuming the original string is in English which has the following letter frequency:\n",
    "\n",
    "```python\n",
    "freq = {\n",
    " 'a': 0.08167,\n",
    " 'b': 0.01492,\n",
    " 'c': 0.02782,\n",
    " 'd': 0.04253,\n",
    " 'e': 0.12702,\n",
    " 'f': 0.02228,\n",
    " 'g': 0.02015,\n",
    " 'h': 0.06094,\n",
    " 'i': 0.06966,\n",
    " 'j': 0.00153,\n",
    " 'k': 0.00772,\n",
    " 'l': 0.04025,\n",
    " 'm': 0.02406,\n",
    " 'n': 0.06749,\n",
    " 'o': 0.07507,\n",
    " 'p': 0.01929,\n",
    " 'q': 0.00095,\n",
    " 'r': 0.05987,\n",
    " 's': 0.06327,\n",
    " 't': 0.09056,\n",
    " 'u': 0.02758,\n",
    " 'v': 0.00978,\n",
    " 'w': 0.0236,\n",
    " 'x': 0.0015,\n",
    " 'y': 0.01974,\n",
    " 'z': 0.00074\n",
    "}\n",
    "```\n",
    "\n",
    "- Encode the following nursery rhyme using a random offset from 10 to 20, then recover the original using `auto_decode`:\n",
    "\n",
    "```text\n",
    "Baa, baa, black sheep,\n",
    "Have you any wool?\n",
    "Yes, sir, yes, sir,\n",
    "Three bags full;\n",
    "One for the master,\n",
    "And one for the dame,\n",
    "And one for the little boy\n",
    "Who lives down the lane.\n",
    "```"
   ]
  },
  {
   "cell_type": "code",
   "execution_count": null,
   "metadata": {},
   "outputs": [],
   "source": [
    "def encode(string, offset):\n",
    "    cipher = ''\n",
    "    for letter in string:\n",
    "        asci = ord(letter)\n",
    "        if asci >= 65 and asci <= 90:\n",
    "            cipher += chr(65 + (asci - 65 + offset) % 26)\n",
    "        elif asci >= 97 and asci <= 122:\n",
    "            cipher += chr(97 + (asci - 97 + offset) % 26)\n",
    "        else:\n",
    "            cipher += letter\n",
    "    return cipher\n",
    "\n",
    "def decode(cipher, offset):\n",
    "    string = ''\n",
    "    for letter in cipher:\n",
    "        asci = ord(letter)\n",
    "        if asci >= 65 and asci <= 90:\n",
    "            string += chr(65 + (asci - 65 - offset) % 26)\n",
    "        elif asci >= 97 and asci <= 122:\n",
    "            string += chr(97 + (asci - 97 - offset) % 26)\n",
    "        else:\n",
    "            string += letter\n",
    "    return string\n",
    "\n",
    "def auto_decode(cipher):\n",
    "    import math\n",
    "    freq = {\n",
    "    'a': 0.08167, 'b': 0.01492, 'c': 0.02782, 'd': 0.04253, 'e': 0.12702, 'f': 0.02228,\n",
    "    'g': 0.02015, 'h': 0.06094, 'i': 0.06966, 'j': 0.00153, 'k': 0.00772, 'l': 0.04025,\n",
    "    'm': 0.02406, 'n': 0.06749, 'o': 0.07507, 'p': 0.01929, 'q': 0.00095, 'r': 0.05987,\n",
    "    's': 0.06327, 't': 0.09056, 'u': 0.02758, 'v': 0.00978, 'w': 0.0236,  'x': 0.0015,\n",
    "    'y': 0.01974, 'z': 0.00074 \n",
    "    }   \n",
    "\n",
    "    # count the letter frequency in the cipher\n",
    "    freq_cipher = [0] * 26\n",
    "    for letter in cipher.lower():\n",
    "        if letter >= 'a' and letter <= 'z':\n",
    "            freq_cipher[ord(letter) - 97] += 1\n",
    "\n",
    "    # calculate the cross entropy for each shift of the cipher\n",
    "    entropy_list = list()\n",
    "    for offset in range(26):\n",
    "        entropy = 0.0\n",
    "        for letter, prob in freq.items():\n",
    "            entropy += -prob * math.log(prob, 2) * freq_cipher[(ord(letter) - 97 + offset) % 26]\n",
    "        entropy_list.append(entropy)\n",
    "    \n",
    "    return entropy_list.index(max(entropy_list))\n",
    "\n",
    "\n"
   ]
  }
 ],
 "metadata": {
  "kernelspec": {
   "display_name": "Python 3",
   "language": "python",
   "name": "python3"
  },
  "language_info": {
   "codemirror_mode": {
    "name": "ipython",
    "version": 3
   },
   "file_extension": ".py",
   "mimetype": "text/x-python",
   "name": "python",
   "nbconvert_exporter": "python",
   "pygments_lexer": "ipython3",
   "version": "3.6.8"
  }
 },
 "nbformat": 4,
 "nbformat_minor": 4
}
