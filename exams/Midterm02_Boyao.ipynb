{
 "cells": [
  {
   "cell_type": "markdown",
   "metadata": {},
   "source": [
    "\n",
    "There are 4 questions, with points weighting given in the question. Write Python code to solve each question.\n",
    "\n",
    "Points will be deducted for \n",
    "\n",
    "- Functions or classes without `docstrings`\n",
    "- Grossly inefficient or redundant code\n",
    "- Excessively verbose code\n",
    "- Use of *magic* numbers\n",
    "\n",
    "Partial credit may be given for incomplete or wrong answers but not if you do not attempt the question.\n",
    "\n",
    "**IMPORTANT**\n",
    "\n",
    "- This is an **open book** exam meant to evaluate fluency with linear algebra and optimization Python\n",
    "- Use a stopwatch to record the time you took to complete the exam in the cell below **honestly**:\n",
    "    - Under 2 hours - No penalty\n",
    "    - Between 2-3 hours - 5 points penalty\n",
    "    - More than 3 hours or **no time reported** - 10 points penalty\n",
    "- Upload the notebook to Sakai when done\n",
    "\n",
    "**Honor Code**: You agree to follow the Duke Honor code when taking this exam."
   ]
  },
  {
   "cell_type": "markdown",
   "metadata": {},
   "source": [
    "**Self-reported time taken**: It is your responsibility to time your exam.\n",
    "\n",
    "<font color=red>Fill in total time in hours and minutes in the cell below</font>"
   ]
  },
  {
   "cell_type": "markdown",
   "metadata": {},
   "source": [
    "1h 46min"
   ]
  },
  {
   "cell_type": "markdown",
   "metadata": {},
   "source": [
    "**1**. (20 points)\n",
    "\n",
    "In school, to help remember when the spelling should be \"ei\" or \"ie\", students are often taught the rule \"i before e except after c\". For example, \"piece\" and \"conceive\" fit this rule.\n",
    "\n",
    "- Find all occurrences of words in the book `alice.txt` that violate this rule (10 points)\n",
    "- Make a table of how often each such word occurs in decreasing order of the count (10 points)"
   ]
  },
  {
   "cell_type": "code",
   "execution_count": 11,
   "metadata": {},
   "outputs": [],
   "source": [
    "import string\n",
    "import re\n",
    "import numpy as np\n",
    "import pandas as pd"
   ]
  },
  {
   "cell_type": "code",
   "execution_count": 24,
   "metadata": {},
   "outputs": [
    {
     "name": "stdout",
     "output_type": "stream",
     "text": [
      "33\n"
     ]
    }
   ],
   "source": [
    "with open(\"alice.txt\") as f:\n",
    "    texts = f.read()\n",
    "\n",
    "words = texts.strip().lower().translate(str.maketrans('-', ' ', string.punctuation)).split()\n",
    "violate = []\n",
    "\n",
    "for word in words:\n",
    "    \n",
    "    flag = False\n",
    "    if \"cie\" in word:\n",
    "        flag = True\n",
    "    else:\n",
    "        index = [m.start() for m in re.finditer('ei', word)]\n",
    "        for idx in index:\n",
    "            if idx == 0:\n",
    "                flag = True\n",
    "                break\n",
    "            elif word[idx - 1] != 'c':\n",
    "                flag = True\n",
    "                break\n",
    "    violate.append(flag)\n",
    "\n",
    "occur = sum(violate)\n",
    "print(occur)"
   ]
  },
  {
   "cell_type": "code",
   "execution_count": 31,
   "metadata": {},
   "outputs": [
    {
     "data": {
      "text/html": [
       "<div>\n",
       "<style scoped>\n",
       "    .dataframe tbody tr th:only-of-type {\n",
       "        vertical-align: middle;\n",
       "    }\n",
       "\n",
       "    .dataframe tbody tr th {\n",
       "        vertical-align: top;\n",
       "    }\n",
       "\n",
       "    .dataframe thead th {\n",
       "        text-align: right;\n",
       "    }\n",
       "</style>\n",
       "<table border=\"1\" class=\"dataframe\">\n",
       "  <thead>\n",
       "    <tr style=\"text-align: right;\">\n",
       "      <th></th>\n",
       "      <th>occurence</th>\n",
       "    </tr>\n",
       "  </thead>\n",
       "  <tbody>\n",
       "    <tr>\n",
       "      <th>their</th>\n",
       "      <td>10</td>\n",
       "    </tr>\n",
       "    <tr>\n",
       "      <th>either</th>\n",
       "      <td>9</td>\n",
       "    </tr>\n",
       "    <tr>\n",
       "      <th>height</th>\n",
       "      <td>4</td>\n",
       "    </tr>\n",
       "    <tr>\n",
       "      <th>being</th>\n",
       "      <td>2</td>\n",
       "    </tr>\n",
       "    <tr>\n",
       "      <th>neither</th>\n",
       "      <td>2</td>\n",
       "    </tr>\n",
       "    <tr>\n",
       "      <th>ein</th>\n",
       "      <td>1</td>\n",
       "    </tr>\n",
       "    <tr>\n",
       "      <th>seeing</th>\n",
       "      <td>1</td>\n",
       "    </tr>\n",
       "    <tr>\n",
       "      <th>theirs</th>\n",
       "      <td>1</td>\n",
       "    </tr>\n",
       "    <tr>\n",
       "      <th>fireirons</th>\n",
       "      <td>1</td>\n",
       "    </tr>\n",
       "    <tr>\n",
       "      <th>fancied</th>\n",
       "      <td>1</td>\n",
       "    </tr>\n",
       "    <tr>\n",
       "      <th>seebeing</th>\n",
       "      <td>1</td>\n",
       "    </tr>\n",
       "  </tbody>\n",
       "</table>\n",
       "</div>"
      ],
      "text/plain": [
       "           occurence\n",
       "their             10\n",
       "either             9\n",
       "height             4\n",
       "being              2\n",
       "neither            2\n",
       "ein                1\n",
       "seeing             1\n",
       "theirs             1\n",
       "fireirons          1\n",
       "fancied            1\n",
       "seebeing           1"
      ]
     },
     "execution_count": 31,
     "metadata": {},
     "output_type": "execute_result"
    }
   ],
   "source": [
    "word_violate = list(np.array(words)[np.array(violate)])\n",
    "vocab = set(word_violate)\n",
    "cnt = np.zeros(len(vocab), dtype = 'int')\n",
    "for i, word in enumerate(vocab):\n",
    "    cnt[i] = word_violate.count(word)\n",
    "\n",
    "df = pd.DataFrame(cnt, columns=['occurence'], index=vocab)\n",
    "df.sort_values(by = 'occurence', ascending = False)"
   ]
  },
  {
   "cell_type": "markdown",
   "metadata": {},
   "source": [
    "**2**. (20 points)\n",
    "\n",
    "A grayscale figure of a Mandelbrot set is loaded for you.\n",
    "\n",
    "- Compress the figure by reconstructing a rank k version, where is k is the number of singular values > 1e-9 (5 points)\n",
    "- Calculate the Frobenius norm of the difference between the original and reconstructed image (5 points)\n",
    "- Calculate the number of bytes needed to store the original image and the data needed to reconstruct the rank k image (5 points)\n",
    "- What is the dimension of the null space of the reconstructed rank k image? (5 points)"
   ]
  },
  {
   "cell_type": "code",
   "execution_count": 33,
   "metadata": {},
   "outputs": [
    {
     "data": {
      "image/png": "[encoded data removed]",
      "text/plain": [
       "<Figure size 432x288 with 1 Axes>"
      ]
     },
     "metadata": {
      "needs_background": "light"
     },
     "output_type": "display_data"
    }
   ],
   "source": [
    "from skimage import color, io\n",
    "import matplotlib.pyplot as plt\n",
    "%matplotlib inline\n",
    "\n",
    "img = color.rgb2gray(color.rgba2rgb(io.imread('mandelbrot-250x250.png')))\n",
    "plt.imshow(img, cmap='gray')\n",
    "pass"
   ]
  },
  {
   "cell_type": "code",
   "execution_count": 39,
   "metadata": {},
   "outputs": [
    {
     "data": {
      "image/png": "[encoded data removed]",
      "text/plain": [
       "<Figure size 432x288 with 1 Axes>"
      ]
     },
     "metadata": {
      "needs_background": "light"
     },
     "output_type": "display_data"
    }
   ],
   "source": [
    "import scipy.linalg as la\n",
    "\n",
    "U, s, Vt = la.svd(img, full_matrices = False)\n",
    "k = np.sum(s > 1e-9)\n",
    "img_new = U[:, :k] @ np.diag(s[:k]) @ Vt[:k, :]\n",
    "\n",
    "plt.imshow(img_new, cmap='gray')\n",
    "pass"
   ]
  },
  {
   "cell_type": "code",
   "execution_count": 42,
   "metadata": {},
   "outputs": [
    {
     "data": {
      "text/plain": [
       "1.593420591396584e-13"
      ]
     },
     "execution_count": 42,
     "metadata": {},
     "output_type": "execute_result"
    }
   ],
   "source": [
    "la.norm(img - img_new)"
   ]
  },
  {
   "cell_type": "code",
   "execution_count": 50,
   "metadata": {},
   "outputs": [
    {
     "name": "stdout",
     "output_type": "stream",
     "text": [
      "500000\n",
      "550000\n"
     ]
    }
   ],
   "source": [
    "print(img.size * img.itemsize)\n",
    "print(U[:, :k].size * U[:, :k].itemsize + s.size * s.itemsize + Vt[:k, :].size * Vt[:k, :].itemsize)"
   ]
  },
  {
   "cell_type": "code",
   "execution_count": 56,
   "metadata": {},
   "outputs": [
    {
     "data": {
      "text/plain": [
       "113"
      ]
     },
     "execution_count": 56,
     "metadata": {},
     "output_type": "execute_result"
    }
   ],
   "source": [
    "len(img_new) - np.linalg.matrix_rank(img_new)"
   ]
  },
  {
   "cell_type": "markdown",
   "metadata": {},
   "source": [
    "**3**. (20 points)\n",
    "\n",
    "Let the columns of $A$ represent the basis vectors for a plane  in $\\mathbb{R}^3$\n",
    "\n",
    "$$\n",
    "A = \\pmatrix{1 & 2\\\\2 & 3\\\\3 & 4}\n",
    "$$\n",
    "\n",
    "- Construct a matrix $P$ that projects a vector $v \\in \\mathbb{R}^3$ onto this plane (5 points)\n",
    "- Find the vector on the plane that is closes to the vector $\\pmatrix{3\\\\4\\\\6}$ (5 points)\n",
    "- Let  $v = \\pmatrix{3\\\\4\\\\6}$. Find the coordinates of $\\text{proj}_A v$ with respect to the basis vectors of the plane (5 points)\n",
    "- Find the distance between $\\text{proj}_A v$ and $v$ using projection (5 points)"
   ]
  },
  {
   "cell_type": "code",
   "execution_count": 58,
   "metadata": {},
   "outputs": [],
   "source": [
    "A = np.array([[1, 2], [2, 3], [3, 4]])"
   ]
  },
  {
   "cell_type": "code",
   "execution_count": 62,
   "metadata": {},
   "outputs": [
    {
     "data": {
      "text/plain": [
       "array([[ 0.83333333,  0.33333333, -0.16666667],\n",
       "       [ 0.33333333,  0.33333333,  0.33333333],\n",
       "       [-0.16666667,  0.33333333,  0.83333333]])"
      ]
     },
     "execution_count": 62,
     "metadata": {},
     "output_type": "execute_result"
    }
   ],
   "source": [
    "P = A @ la.inv(A.T @ A) @ A.T\n",
    "P"
   ]
  },
  {
   "cell_type": "code",
   "execution_count": 67,
   "metadata": {},
   "outputs": [
    {
     "data": {
      "text/plain": [
       "array([2.83333333, 4.33333333, 5.83333333])"
      ]
     },
     "execution_count": 67,
     "metadata": {},
     "output_type": "execute_result"
    }
   ],
   "source": [
    "v = np.array([3, 4, 6])\n",
    "proj_v = P @ v\n",
    "proj_v"
   ]
  },
  {
   "cell_type": "code",
   "execution_count": 74,
   "metadata": {},
   "outputs": [
    {
     "data": {
      "text/plain": [
       "array([ 0.16666667, -0.33333333,  0.16666667])"
      ]
     },
     "execution_count": 74,
     "metadata": {},
     "output_type": "execute_result"
    }
   ],
   "source": [
    "Q = np.eye(len(A)) - P\n",
    "Q @ v"
   ]
  },
  {
   "cell_type": "markdown",
   "metadata": {},
   "source": [
    "**4** (30 points)\n",
    "\n",
    "Given the function $f(x) = x^3 - 5x^2 + x + 1$,\n",
    "\n",
    "- Perform a single quadratic interpolation starting with the points (0, 2, 5) and return the next bracket (10 points)\n",
    "- Plot the function and the quadratic interpolation showing the interpolated points for $x \\in (-1, 6)$ (5 points)\n",
    "- Find a local minimum using the newton method starting at the point x=4 with a tolerance of $10^{-4}$ for $\\delta x$. Return the value of $x$ and $f(x)$ at that point (10 points)\n",
    "- Find all roots of the function using the companion matrix method (5 points)\n",
    "\n",
    "For the optimization problems, stop when a tolerance of $10^{-4}$ is reached for $x$. Do not use any library functions from `scipy.optimize` or `scipy.interpolate` or `np.root` (you can use for checking but not for solving)"
   ]
  },
  {
   "cell_type": "code",
   "execution_count": 98,
   "metadata": {},
   "outputs": [],
   "source": [
    "from scipy.interpolate import interp1d\n",
    "\n",
    "def f(x):\n",
    "    '''Definition of function f(x)'''\n",
    "    \n",
    "    return x**3 - 5*x**2 + x + 1\n",
    "\n",
    "def f_qua_intp(x, x0, y0):\n",
    "    '''Calculate the quadratic interpolation function'''\n",
    "    \n",
    "    s = 0.0\n",
    "    for i in range(len(x0)):\n",
    "        xi = np.delete(x0, i)\n",
    "        s += y0[i] * np.prod(x - xi)/np.prod(x0[i] - xi)\n",
    "    return s\n",
    "\n",
    "x0 = np.array([0,2,5])\n",
    "y0 = f(x0)\n",
    "f2 = lambda x: f_qua_intp(x, x0, y0)"
   ]
  },
  {
   "cell_type": "code",
   "execution_count": 106,
   "metadata": {},
   "outputs": [
    {
     "data": {
      "image/png": "[encoded data removed]",
      "text/plain": [
       "<Figure size 432x288 with 1 Axes>"
      ]
     },
     "metadata": {
      "needs_background": "light"
     },
     "output_type": "display_data"
    }
   ],
   "source": [
    "xs = np.linspace(-1, 6, num=10000, endpoint=True)\n",
    "plt.plot(xs, [f2(x) for x in xs])\n",
    "plt.plot(xs, f(xs),'red')\n",
    "pass"
   ]
  },
  {
   "cell_type": "code",
   "execution_count": 109,
   "metadata": {},
   "outputs": [
    {
     "name": "stdout",
     "output_type": "stream",
     "text": [
      "3.2301458435204404\n"
     ]
    }
   ],
   "source": [
    "def df(x):\n",
    "    '''The derivative function of f(x)'''\n",
    "    \n",
    "    return 3*x**2 - 10*x + 1\n",
    "\n",
    "def d2f(x):\n",
    "    '''The second order derivative function of f(x)'''\n",
    "    \n",
    "    return 6*x - 10\n",
    "\n",
    "x0 = 4\n",
    "xval = x0\n",
    "limit = 1e-4\n",
    "notconv = True\n",
    "\n",
    "while(notconv):\n",
    "    funval = df(xval)\n",
    "    nextval = xval - funval / d2f(xval)\n",
    "    if abs(funval) < limit:\n",
    "        notconv = False\n",
    "    else:\n",
    "        xval = nextval\n",
    "    \n",
    "print(xval)"
   ]
  },
  {
   "cell_type": "code",
   "execution_count": 110,
   "metadata": {},
   "outputs": [
    {
     "data": {
      "text/plain": [
       "6.807603273273344e-05"
      ]
     },
     "execution_count": 110,
     "metadata": {},
     "output_type": "execute_result"
    }
   ],
   "source": [
    "funval"
   ]
  },
  {
   "cell_type": "code",
   "execution_count": 118,
   "metadata": {},
   "outputs": [
    {
     "data": {
      "text/plain": [
       "array([[ 5., -1., -1.],\n",
       "       [ 1.,  0.,  0.],\n",
       "       [ 0.,  1.,  0.]])"
      ]
     },
     "execution_count": 118,
     "metadata": {},
     "output_type": "execute_result"
    }
   ],
   "source": [
    "poly = np.array([1,-5,1,1])\n",
    "A = np.r_[(-poly[1:] / poly[0])[None, :], np.c_[np.eye(2), np.zeros(2)[:, None]]]\n",
    "A"
   ]
  },
  {
   "cell_type": "code",
   "execution_count": 119,
   "metadata": {},
   "outputs": [
    {
     "data": {
      "text/plain": [
       "array([ 4.74482608+0.j,  0.60406814+0.j, -0.34889422+0.j])"
      ]
     },
     "execution_count": 119,
     "metadata": {},
     "output_type": "execute_result"
    }
   ],
   "source": [
    "la.eigvals(A)"
   ]
  }
 ],
 "metadata": {
  "kernelspec": {
   "display_name": "Python 3",
   "language": "python",
   "name": "python3"
  },
  "language_info": {
   "codemirror_mode": {
    "name": "ipython",
    "version": 3
   },
   "file_extension": ".py",
   "mimetype": "text/x-python",
   "name": "python",
   "nbconvert_exporter": "python",
   "pygments_lexer": "ipython3",
   "version": "3.6.9"
  }
 },
 "nbformat": 4,
 "nbformat_minor": 4
}
