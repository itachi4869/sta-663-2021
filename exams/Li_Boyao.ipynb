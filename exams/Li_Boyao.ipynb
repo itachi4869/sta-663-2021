{
 "cells": [
  {
   "cell_type": "markdown",
   "metadata": {},
   "source": [
    "# Midterm exam 1\n",
    "\n",
    "There are 4 questions, each worth 25 points. Write Python code to solve each question.\n",
    "\n",
    "Points will be deducted for \n",
    "\n",
    "- Functions or classes without `docstrings`\n",
    "- Grossly inefficient or redundant code\n",
    "- Excessively verbose code\n",
    "- Use of *magic* numbers\n",
    "\n",
    "Partial credit may be given for incomplete or wrong answers but not if you do not attempt the question.\n",
    "\n",
    "You should only have this notebook tab open during the exam and stay on the same notebook throughout. You may use built-in help, accessed via `?foo`, `foo?` or `help(foo)`.\n",
    "\n",
    "**IMPORTANT**\n",
    "\n",
    "- This is a **closed book** exam meant to evaluate fluency in Python\n",
    "- Use a stopwatch to record the number of minutes you took to complete the exam in the cell below **honestly**. 1 point will be deducted for every 2 minutes beyond 75 minutes. So if you take 90 minutes to complete the exam, 8 points will be deducted.\n",
    "- Upload the notebook to Sakai when done\n",
    "\n",
    "**Honor Code**: You agree to follow the Duke Honor code when taking this exam."
   ]
  },
  {
   "cell_type": "markdown",
   "metadata": {},
   "source": [
    "**Time taken**\n",
    "\n",
    "Execute the cell below once you have read the instructions **above**. This must be the **first** cell executed. At the end of the test, you will execute another timing cell to calculate the total time taken.\n",
    "\n",
    "It is a violation of the Honor Code to abuse the timing system in any way."
   ]
  },
  {
   "cell_type": "code",
   "execution_count": 1,
   "metadata": {},
   "outputs": [],
   "source": [
    "import time\n",
    "start = time.time()"
   ]
  },
  {
   "cell_type": "markdown",
   "metadata": {},
   "source": [
    "**1**. (25 points)\n",
    "\n",
    "Create a DataFrame showing the number of all possible transitions between the letters A, C, T in the file `seq/txt`- this should have a shape (3,3) and each cell should contain the number of transitions (e.g. $A \\to C$) found. Rows and columns of the DataFrame should be the letters A, C, T.\n",
    "\n",
    "- Convert this to a stochastic matrix - i.e. one where each *row* sums to 1\n",
    "\n",
    "\n",
    "**Hint**: For the sequence `AAATAT` the transition counts would be\n",
    "\n",
    "- `AA` = 2\n",
    "- `AT` = 2\n",
    "- `TA` = 1"
   ]
  },
  {
   "cell_type": "code",
   "execution_count": 2,
   "metadata": {},
   "outputs": [],
   "source": [
    "import string\n",
    "import numpy as np\n",
    "import pandas as pd"
   ]
  },
  {
   "cell_type": "code",
   "execution_count": 3,
   "metadata": {},
   "outputs": [
    {
     "data": {
      "text/html": [
       "<div>\n",
       "<style scoped>\n",
       "    .dataframe tbody tr th:only-of-type {\n",
       "        vertical-align: middle;\n",
       "    }\n",
       "\n",
       "    .dataframe tbody tr th {\n",
       "        vertical-align: top;\n",
       "    }\n",
       "\n",
       "    .dataframe thead th {\n",
       "        text-align: right;\n",
       "    }\n",
       "</style>\n",
       "<table border=\"1\" class=\"dataframe\">\n",
       "  <thead>\n",
       "    <tr style=\"text-align: right;\">\n",
       "      <th></th>\n",
       "      <th>A</th>\n",
       "      <th>C</th>\n",
       "      <th>T</th>\n",
       "    </tr>\n",
       "  </thead>\n",
       "  <tbody>\n",
       "    <tr>\n",
       "      <th>A</th>\n",
       "      <td>10989</td>\n",
       "      <td>10997</td>\n",
       "      <td>11080</td>\n",
       "    </tr>\n",
       "    <tr>\n",
       "      <th>C</th>\n",
       "      <td>10985</td>\n",
       "      <td>10926</td>\n",
       "      <td>11186</td>\n",
       "    </tr>\n",
       "    <tr>\n",
       "      <th>T</th>\n",
       "      <td>11092</td>\n",
       "      <td>11174</td>\n",
       "      <td>11570</td>\n",
       "    </tr>\n",
       "  </tbody>\n",
       "</table>\n",
       "</div>"
      ],
      "text/plain": [
       "       A      C      T\n",
       "A  10989  10997  11080\n",
       "C  10985  10926  11186\n",
       "T  11092  11174  11570"
      ]
     },
     "execution_count": 3,
     "metadata": {},
     "output_type": "execute_result"
    }
   ],
   "source": [
    "with open('seq.txt') as f:\n",
    "    seq = f.read()\n",
    "\n",
    "seq = seq.strip()\n",
    "mapping = {'A': 0, 'C': 1, 'T':2}\n",
    "cnt = np.zeros([3,3], dtype='int')\n",
    "for i in range(len(seq) - 1):\n",
    "    cnt[mapping[seq[i]]][mapping[seq[i + 1]]] += 1\n",
    "\n",
    "df_cnt = pd.DataFrame(cnt, columns = ['A','C','T'], index = ['A','C','T'])\n",
    "df_cnt\n"
   ]
  },
  {
   "cell_type": "code",
   "execution_count": 4,
   "metadata": {},
   "outputs": [
    {
     "data": {
      "text/html": [
       "<div>\n",
       "<style scoped>\n",
       "    .dataframe tbody tr th:only-of-type {\n",
       "        vertical-align: middle;\n",
       "    }\n",
       "\n",
       "    .dataframe tbody tr th {\n",
       "        vertical-align: top;\n",
       "    }\n",
       "\n",
       "    .dataframe thead th {\n",
       "        text-align: right;\n",
       "    }\n",
       "</style>\n",
       "<table border=\"1\" class=\"dataframe\">\n",
       "  <thead>\n",
       "    <tr style=\"text-align: right;\">\n",
       "      <th></th>\n",
       "      <th>A</th>\n",
       "      <th>C</th>\n",
       "      <th>T</th>\n",
       "    </tr>\n",
       "  </thead>\n",
       "  <tbody>\n",
       "    <tr>\n",
       "      <th>A</th>\n",
       "      <td>0.332335</td>\n",
       "      <td>0.332577</td>\n",
       "      <td>0.335087</td>\n",
       "    </tr>\n",
       "    <tr>\n",
       "      <th>C</th>\n",
       "      <td>0.331903</td>\n",
       "      <td>0.330121</td>\n",
       "      <td>0.337976</td>\n",
       "    </tr>\n",
       "    <tr>\n",
       "      <th>T</th>\n",
       "      <td>0.327817</td>\n",
       "      <td>0.330240</td>\n",
       "      <td>0.341943</td>\n",
       "    </tr>\n",
       "  </tbody>\n",
       "</table>\n",
       "</div>"
      ],
      "text/plain": [
       "          A         C         T\n",
       "A  0.332335  0.332577  0.335087\n",
       "C  0.331903  0.330121  0.337976\n",
       "T  0.327817  0.330240  0.341943"
      ]
     },
     "execution_count": 4,
     "metadata": {},
     "output_type": "execute_result"
    }
   ],
   "source": [
    "df_cnt / np.sum(cnt, axis = 1)[:,None]"
   ]
  },
  {
   "cell_type": "markdown",
   "metadata": {},
   "source": [
    "**2**. (25 points)\n",
    "\n",
    "Using only `map` and `reduce` (from `functools`) and anonymous functions, convert the list of strings in `ss`  into a generator of lower case words. Find the most frequently occurring word using only a Python dictionary."
   ]
  },
  {
   "cell_type": "code",
   "execution_count": 67,
   "metadata": {},
   "outputs": [],
   "source": [
    "s1 = 'The quick brown fox jumps over the lazy brown dog'\n",
    "s2 = 'How now brown cow'\n",
    "s3 = 'Jack and Jill went up the hill'\n",
    "ss =[s1, s2, s3]"
   ]
  },
  {
   "cell_type": "code",
   "execution_count": 68,
   "metadata": {},
   "outputs": [
    {
     "data": {
      "text/plain": [
       "['the',\n",
       " 'quick',\n",
       " 'brown',\n",
       " 'fox',\n",
       " 'jumps',\n",
       " 'over',\n",
       " 'the',\n",
       " 'lazy',\n",
       " 'brown',\n",
       " 'dog',\n",
       " 'how',\n",
       " 'now',\n",
       " 'brown',\n",
       " 'cow',\n",
       " 'jack',\n",
       " 'and',\n",
       " 'jill',\n",
       " 'went',\n",
       " 'up',\n",
       " 'the',\n",
       " 'hill']"
      ]
     },
     "execution_count": 68,
     "metadata": {},
     "output_type": "execute_result"
    }
   ],
   "source": [
    "from functools import reduce\n",
    "\n",
    "ss = reduce(lambda x, y: x + y ,map(str.split, map(str.lower, ss)))\n",
    "ss"
   ]
  },
  {
   "cell_type": "code",
   "execution_count": 69,
   "metadata": {},
   "outputs": [
    {
     "data": {
      "text/plain": [
       "{'up': 1,\n",
       " 'fox': 1,\n",
       " 'over': 1,\n",
       " 'jumps': 1,\n",
       " 'the': 3,\n",
       " 'jack': 1,\n",
       " 'went': 1,\n",
       " 'dog': 1,\n",
       " 'now': 1,\n",
       " 'cow': 1,\n",
       " 'and': 1,\n",
       " 'lazy': 1,\n",
       " 'quick': 1,\n",
       " 'brown': 3,\n",
       " 'hill': 1,\n",
       " 'jill': 1,\n",
       " 'how': 1}"
      ]
     },
     "execution_count": 69,
     "metadata": {},
     "output_type": "execute_result"
    }
   ],
   "source": [
    "{word: ss.count(word) for word in set(ss)}"
   ]
  },
  {
   "cell_type": "markdown",
   "metadata": {},
   "source": [
    "<font color=red>-2 you need to find max count words in code</font>"
   ]
  },
  {
   "cell_type": "markdown",
   "metadata": {},
   "source": [
    "**3**. (25 points)\n",
    "\n",
    "Define a function that returns True if a given integer $n$ is prime and false otherwise. Do this as efficiently as possible. \n",
    "\n",
    "- Count the number of primes in `nums.txt`"
   ]
  },
  {
   "cell_type": "code",
   "execution_count": 5,
   "metadata": {},
   "outputs": [],
   "source": [
    "def isprime(num):\n",
    "    if num <= 1:\n",
    "        return False\n",
    "    \n",
    "    for i in range(2, int(np.sqrt(num)) + 1):\n",
    "        if(num % i == 0):\n",
    "            return False\n",
    "    return True"
   ]
  },
  {
   "cell_type": "code",
   "execution_count": 7,
   "metadata": {},
   "outputs": [
    {
     "data": {
      "text/plain": [
       "[2, 3, 5, 7, 11, 13, 17, 19]"
      ]
     },
     "execution_count": 7,
     "metadata": {},
     "output_type": "execute_result"
    }
   ],
   "source": [
    "[n for n in range(20) if isprime(n)]"
   ]
  },
  {
   "cell_type": "code",
   "execution_count": 8,
   "metadata": {},
   "outputs": [
    {
     "data": {
      "text/plain": [
       "True"
      ]
     },
     "execution_count": 8,
     "metadata": {},
     "output_type": "execute_result"
    }
   ],
   "source": [
    "isprime(2)"
   ]
  },
  {
   "cell_type": "code",
   "execution_count": 6,
   "metadata": {},
   "outputs": [
    {
     "name": "stdout",
     "output_type": "stream",
     "text": [
      "66\n"
     ]
    }
   ],
   "source": [
    "with open('nums.txt') as f:\n",
    "    nums = f.read()\n",
    "\n",
    "nums = list(map(int, nums.split()))\n",
    "print(sum(list(map(isprime, nums))))"
   ]
  },
  {
   "cell_type": "markdown",
   "metadata": {},
   "source": [
    "**4**. (25 points)\n",
    "\n",
    "Consider the following function $f(x) = rx(1-x)$. \n",
    "\n",
    "For a particular value of $r$, iteratively evaluate $f$ 100 times, each time using the output as the next input $x$. \n",
    "\n",
    "- Let $r$ take values from the sequence [0, 0.01, ..., 4]\n",
    "- For each value of $r$ find the final value $y$ returned by $f$ for $m = 50$ different random starting $x$ drawn from the standard uniform distribution\n",
    "\n",
    "For example if $r=2$ and $x=0.1$, the iterations would return the values\n",
    "\n",
    "$ 0.1 \\to 0.2 \\to 0.3 \\to 0.4 \\to 0.5 \\to 0.5 \\to \\ldots \\to 0.5$\n",
    "\n",
    "and the value recorded as $y$ would be 0.5\n",
    "\n",
    "- Make a scatter plot of $y$ against $r$, using `s=1` for the marker size\n",
    "\n",
    "Your figure should look like this\n",
    "\n",
    "![img](bif.png)"
   ]
  },
  {
   "cell_type": "code",
   "execution_count": 114,
   "metadata": {},
   "outputs": [],
   "source": [
    "%matplotlib inline\n",
    "import matplotlib.pyplot as plt"
   ]
  },
  {
   "cell_type": "code",
   "execution_count": 115,
   "metadata": {},
   "outputs": [],
   "source": [
    "def eva(r):\n",
    "    xs = list(np.random.random(size = 50))\n",
    "    ys = []\n",
    "    \n",
    "    for x in xs:\n",
    "        y = x\n",
    "        for j in range(100):\n",
    "            y = r * y * (1 - y)\n",
    "        ys.append(y)\n",
    "    \n",
    "    return ys"
   ]
  },
  {
   "cell_type": "code",
   "execution_count": 118,
   "metadata": {},
   "outputs": [],
   "source": [
    "r = np.arange(0.0,4.01,0.01)\n",
    "x_all = np.repeat(r, 50)\n",
    "res = list(map(eva, r))\n",
    "y_all = [y for ys in res for y in ys]"
   ]
  },
  {
   "cell_type": "code",
   "execution_count": 119,
   "metadata": {},
   "outputs": [
    {
     "data": {
      "image/png": "[encoded data removed]",
      "text/plain": [
       "<Figure size 432x288 with 1 Axes>"
      ]
     },
     "metadata": {
      "needs_background": "light"
     },
     "output_type": "display_data"
    }
   ],
   "source": [
    "plt.scatter(x_all, y_all, s=1)\n",
    "pass"
   ]
  },
  {
   "cell_type": "markdown",
   "metadata": {},
   "source": [
    "<font color=red>-2 for magic numbers in function. Also none of your functions have docstrings.</font>"
   ]
  },
  {
   "cell_type": "markdown",
   "metadata": {},
   "source": [
    "#### Run this when done\n",
    "\n",
    "Once you have run this, do not make any more revisions. Submit your notebook to Sakai for grading. \n",
    "\n",
    "The cell below **must** be executed for grading. It must also be the **last** cell executed in this notebook."
   ]
  },
  {
   "cell_type": "code",
   "execution_count": 120,
   "metadata": {},
   "outputs": [
    {
     "data": {
      "text/plain": [
       "62.0"
      ]
     },
     "execution_count": 120,
     "metadata": {},
     "output_type": "execute_result"
    }
   ],
   "source": [
    "elapsed = time.time() - start\n",
    "elapsed // 60"
   ]
  },
  {
   "cell_type": "code",
   "execution_count": null,
   "metadata": {},
   "outputs": [],
   "source": []
  }
 ],
 "metadata": {
  "kernelspec": {
   "display_name": "Python 3",
   "language": "python",
   "name": "python3"
  },
  "language_info": {
   "codemirror_mode": {
    "name": "ipython",
    "version": 3
   },
   "file_extension": ".py",
   "mimetype": "text/x-python",
   "name": "python",
   "nbconvert_exporter": "python",
   "pygments_lexer": "ipython3",
   "version": "3.6.8"
  }
 },
 "nbformat": 4,
 "nbformat_minor": 4
}
