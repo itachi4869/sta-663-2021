{
 "cells": [
  {
   "cell_type": "markdown",
   "metadata": {},
   "source": [
    "Instructions\n",
    "\n",
    "**When taking this exam, you agree to follow the Duke Honor Code.**\n",
    "\n",
    "- This is an OPEN book exam.\n",
    "- Import any module you need from the standard Python library, `numpy`, `scipy`, `pandas`, `matplotlib` or `seaborn`. Do not use any other 3rd party packages.\n",
    "- Answer all 5 questions."
   ]
  },
  {
   "cell_type": "markdown",
   "metadata": {},
   "source": [
    "**1**. 20 points\n",
    "\n",
    "- Load the matrix stored in `Q1.npy` into `A` and use factorize using SVD (5 points)\n",
    "- Find the condition number of `A` from the SVD (5 points)\n",
    "- Generate the matrix that is the best rank 3 approximation to `A` (5 points)\n",
    "- Determine how many singular vectors would be needed to explain at least 95% of the variance of the original matrix `A` (5 points)"
   ]
  },
  {
   "cell_type": "code",
   "execution_count": 2,
   "metadata": {},
   "outputs": [],
   "source": [
    "import numpy as np\n",
    "import scipy.linalg as la"
   ]
  },
  {
   "cell_type": "markdown",
   "metadata": {},
   "source": [
    "- Load the matrix stored in `Q1.npy` into `A` and use factorize using SVD (5 points)\n"
   ]
  },
  {
   "cell_type": "code",
   "execution_count": 3,
   "metadata": {},
   "outputs": [],
   "source": [
    "A = np.load('Q1.npy')"
   ]
  },
  {
   "cell_type": "code",
   "execution_count": 4,
   "metadata": {},
   "outputs": [
    {
     "data": {
      "text/plain": [
       "array([[ 0.84807845,  1.54321673,  0.31312243, ...,  8.24001242,\n",
       "         4.97323637,  7.84631588],\n",
       "       [-0.53857052,  1.27198196, -0.05287139, ...,  5.1763616 ,\n",
       "         0.70307245,  4.38496557],\n",
       "       [-0.33309315,  0.07205011,  1.389645  , ..., -2.24626186,\n",
       "         4.05977097,  2.86966519],\n",
       "       ...,\n",
       "       [ 0.78051951,  3.53918174,  0.72538686, ...,  9.86305368,\n",
       "         0.82931134,  5.35439896],\n",
       "       [ 0.50150059, -0.10579057, -0.46748626, ...,  3.31661373,\n",
       "         1.75445506,  5.00540317],\n",
       "       [-0.25258979,  1.92020903, -0.33153204, ...,  2.00926665,\n",
       "         1.12684173,  2.11664949]])"
      ]
     },
     "execution_count": 4,
     "metadata": {},
     "output_type": "execute_result"
    }
   ],
   "source": [
    "A"
   ]
  },
  {
   "cell_type": "code",
   "execution_count": 5,
   "metadata": {},
   "outputs": [
    {
     "data": {
      "text/plain": [
       "(100, 12)"
      ]
     },
     "execution_count": 5,
     "metadata": {},
     "output_type": "execute_result"
    }
   ],
   "source": [
    "A.shape"
   ]
  },
  {
   "cell_type": "code",
   "execution_count": 6,
   "metadata": {},
   "outputs": [],
   "source": [
    "U, s, Vt = la.svd(A)"
   ]
  },
  {
   "cell_type": "markdown",
   "metadata": {},
   "source": [
    "- Generate the matrix that is the best rank 3 approximation to `A` (5 points)\n",
    "\n"
   ]
  },
  {
   "cell_type": "code",
   "execution_count": 7,
   "metadata": {},
   "outputs": [],
   "source": [
    "A3 = U[:, :3] @ np.diag(s[:3]) @ Vt[:3,:]"
   ]
  },
  {
   "cell_type": "code",
   "execution_count": 8,
   "metadata": {},
   "outputs": [
    {
     "data": {
      "text/plain": [
       "array([[ 0.29729009,  2.20677283,  0.78864987, ...,  8.59344029,\n",
       "         4.93757121,  8.87158733],\n",
       "       [ 0.46934858,  1.50369645, -0.14481231, ...,  5.93130652,\n",
       "         1.21140329,  4.12958094],\n",
       "       [-1.0764932 , -0.41385293,  0.94748403, ..., -0.92771243,\n",
       "         3.75649444,  1.74809577],\n",
       "       ...,\n",
       "       [ 0.76116011,  2.27362009, -0.61260421, ...,  9.15124582,\n",
       "         0.80119961,  5.1968386 ],\n",
       "       [ 0.709774  ,  1.21703559,  0.52015654, ...,  3.94235488,\n",
       "         1.7940456 ,  4.80331962],\n",
       "       [ 0.03181498,  0.54641622,  0.29661635, ...,  2.11950844,\n",
       "         1.54690385,  2.48246117]])"
      ]
     },
     "execution_count": 8,
     "metadata": {},
     "output_type": "execute_result"
    }
   ],
   "source": [
    "A3"
   ]
  },
  {
   "cell_type": "code",
   "execution_count": 9,
   "metadata": {},
   "outputs": [
    {
     "data": {
      "text/plain": [
       "(100, 12)"
      ]
     },
     "execution_count": 9,
     "metadata": {},
     "output_type": "execute_result"
    }
   ],
   "source": [
    "A3.shape"
   ]
  },
  {
   "cell_type": "code",
   "execution_count": 10,
   "metadata": {},
   "outputs": [],
   "source": [
    "k = (s[0]/s < 15).sum()"
   ]
  },
  {
   "cell_type": "code",
   "execution_count": 11,
   "metadata": {},
   "outputs": [],
   "source": [
    "B = U[:, :k] @ np.diag(s[:k]) @ Vt[:k,:]"
   ]
  },
  {
   "cell_type": "code",
   "execution_count": 12,
   "metadata": {},
   "outputs": [
    {
     "data": {
      "text/plain": [
       "array([[ 0.43341498,  1.98579414,  0.62864306, ...,  8.03582024,\n",
       "         4.77872585,  8.00205879],\n",
       "       [-0.14154168,  1.3457275 ,  0.3443699 , ...,  5.91542727,\n",
       "         0.49192135,  3.99393859],\n",
       "       [ 0.46196781, -0.08906886,  1.27294164, ..., -1.50260182,\n",
       "         4.1864414 ,  2.30863285],\n",
       "       ...,\n",
       "       [ 0.69298873,  2.64286195,  0.16877436, ...,  9.37949973,\n",
       "         1.0923083 ,  5.7530914 ],\n",
       "       [ 0.78332247,  1.07457169, -0.16023442, ...,  3.77161236,\n",
       "         1.69193969,  4.41387249],\n",
       "       [-0.56753096,  0.87207484, -0.30702455, ...,  1.78597436,\n",
       "         0.98851743,  2.64790546]])"
      ]
     },
     "execution_count": 12,
     "metadata": {},
     "output_type": "execute_result"
    }
   ],
   "source": [
    "B"
   ]
  },
  {
   "cell_type": "markdown",
   "metadata": {},
   "source": [
    "- Find the condition number of `A` from the SVD (5 points)\n",
    "\n",
    "Note:\n",
    "\n",
    "- You should use the SVD to find this"
   ]
  },
  {
   "cell_type": "code",
   "execution_count": 13,
   "metadata": {},
   "outputs": [
    {
     "data": {
      "text/plain": [
       "19.8402505790496"
      ]
     },
     "execution_count": 13,
     "metadata": {},
     "output_type": "execute_result"
    }
   ],
   "source": [
    "s[0]/s[-1]"
   ]
  },
  {
   "cell_type": "code",
   "execution_count": 14,
   "metadata": {},
   "outputs": [
    {
     "data": {
      "text/plain": [
       "19.840250579049602"
      ]
     },
     "execution_count": 14,
     "metadata": {},
     "output_type": "execute_result"
    }
   ],
   "source": [
    "np.linalg.cond(A)"
   ]
  },
  {
   "cell_type": "markdown",
   "metadata": {},
   "source": [
    "- Determine how many singular vectors would be needed to explain at least 95% of the variance of the original matrix `A` (5 points)]\n",
    "\n",
    "Note:\n",
    "\n",
    "- Do not need to square s"
   ]
  },
  {
   "cell_type": "code",
   "execution_count": 15,
   "metadata": {},
   "outputs": [],
   "source": [
    "v = s/s.sum()\n",
    "v = v.cumsum()"
   ]
  },
  {
   "cell_type": "code",
   "execution_count": 16,
   "metadata": {},
   "outputs": [
    {
     "data": {
      "text/plain": [
       "11"
      ]
     },
     "execution_count": 16,
     "metadata": {},
     "output_type": "execute_result"
    }
   ],
   "source": [
    "1 + (v < 0.95).sum()"
   ]
  },
  {
   "cell_type": "code",
   "execution_count": 17,
   "metadata": {},
   "outputs": [
    {
     "data": {
      "text/plain": [
       "[(1, 0.5345017135887489),\n",
       " (2, 0.6243639523639966),\n",
       " (3, 0.6700272605895616),\n",
       " (4, 0.7148569709920749),\n",
       " (5, 0.7578839044688142),\n",
       " (6, 0.7974400999576216),\n",
       " (7, 0.8359429481624789),\n",
       " (8, 0.872848205700848),\n",
       " (9, 0.9092389941458603),\n",
       " (10, 0.9416425887115568),\n",
       " (11, 0.9730597296914605),\n",
       " (12, 0.9999999999999998)]"
      ]
     },
     "execution_count": 17,
     "metadata": {},
     "output_type": "execute_result"
    }
   ],
   "source": [
    "list(enumerate(np.cumsum(s/s.sum()), start=1))"
   ]
  },
  {
   "cell_type": "code",
   "execution_count": 18,
   "metadata": {},
   "outputs": [
    {
     "data": {
      "text/plain": [
       "array([[ 1.04757834e+00,  2.45112855e-01,  8.77303625e-03,\n",
       "         4.08580148e-01,  4.18145450e-02,  3.19890377e-01,\n",
       "         9.67676792e-02,  7.17523185e-01, -2.21003214e-01,\n",
       "         9.36827216e-01,  2.53018680e-02,  6.95770393e-01],\n",
       "       [ 2.45112855e-01,  1.23680029e+00, -8.06373985e-02,\n",
       "         9.45760064e-01,  3.91581734e-01,  8.33169797e-01,\n",
       "         7.11401544e-01,  2.21432172e+00, -3.46808769e-01,\n",
       "         3.35848717e+00,  3.38107055e-01,  2.20478390e+00],\n",
       "       [ 8.77303625e-03, -8.06373985e-02,  9.68761796e-01,\n",
       "        -1.29188798e-01, -1.46012550e-01,  1.28493541e-02,\n",
       "        -3.81816656e-02, -3.27945248e-01,  3.29143506e-01,\n",
       "        -3.61840405e-01,  3.49310494e-01,  1.56076570e-01],\n",
       "       [ 4.08580148e-01,  9.45760064e-01, -1.29188798e-01,\n",
       "         2.59449768e+00,  5.07420977e-01,  1.21714798e+00,\n",
       "         1.13010178e+00,  3.20349468e+00, -3.19311275e-01,\n",
       "         4.64239972e+00,  7.58027622e-01,  2.96579439e+00],\n",
       "       [ 4.18145450e-02,  3.91581734e-01, -1.46012550e-01,\n",
       "         5.07420977e-01,  1.05615976e+00,  4.17646427e-01,\n",
       "         4.93113007e-01,  1.18704024e+00, -1.01765965e-01,\n",
       "         1.62182791e+00,  2.49860635e-01,  1.01745357e+00],\n",
       "       [ 3.19890377e-01,  8.33169797e-01,  1.28493541e-02,\n",
       "         1.21714798e+00,  4.17646427e-01,  2.17789796e+00,\n",
       "         8.94576278e-01,  2.57830042e+00,  3.82661693e-02,\n",
       "         3.96595810e+00,  6.65174578e-01,  2.88988795e+00],\n",
       "       [ 9.67676792e-02,  7.11401544e-01, -3.81816656e-02,\n",
       "         1.13010178e+00,  4.93113007e-01,  8.94576278e-01,\n",
       "         1.64493808e+00,  2.42222999e+00, -2.32513354e-01,\n",
       "         3.60801168e+00,  4.86557453e-01,  2.38712928e+00],\n",
       "       [ 7.17523185e-01,  2.21432172e+00, -3.27945248e-01,\n",
       "         3.20349468e+00,  1.18704024e+00,  2.57830042e+00,\n",
       "         2.42222999e+00,  8.21785355e+00, -8.50979813e-01,\n",
       "         1.05315785e+01,  1.48274191e+00,  6.75762608e+00],\n",
       "       [-2.21003214e-01, -3.46808769e-01,  3.29143506e-01,\n",
       "        -3.19311275e-01, -1.01765965e-01,  3.82661693e-02,\n",
       "        -2.32513354e-01, -8.50979813e-01,  1.75294139e+00,\n",
       "        -1.00841202e+00,  6.02905758e-01,  3.14897013e-01],\n",
       "       [ 9.36827216e-01,  3.35848717e+00, -3.61840405e-01,\n",
       "         4.64239972e+00,  1.62182791e+00,  3.96595810e+00,\n",
       "         3.60801168e+00,  1.05315785e+01, -1.00841202e+00,\n",
       "         1.59393960e+01,  2.42853104e+00,  1.02176740e+01],\n",
       "       [ 2.53018680e-02,  3.38107055e-01,  3.49310494e-01,\n",
       "         7.58027622e-01,  2.49860635e-01,  6.65174578e-01,\n",
       "         4.86557453e-01,  1.48274191e+00,  6.02905758e-01,\n",
       "         2.42853104e+00,  2.01809203e+00,  2.48628220e+00],\n",
       "       [ 6.95770393e-01,  2.20478390e+00,  1.56076570e-01,\n",
       "         2.96579439e+00,  1.01745357e+00,  2.88988795e+00,\n",
       "         2.38712928e+00,  6.75762608e+00,  3.14897013e-01,\n",
       "         1.02176740e+01,  2.48628220e+00,  8.82313420e+00]])"
      ]
     },
     "execution_count": 18,
     "metadata": {},
     "output_type": "execute_result"
    }
   ],
   "source": [
    "X = A - A.mean(axis=0)\n",
    "C = (X.T @ X)/(len(X) - 1)\n",
    "C"
   ]
  },
  {
   "cell_type": "markdown",
   "metadata": {},
   "source": [
    "Check with PCA"
   ]
  },
  {
   "cell_type": "code",
   "execution_count": 19,
   "metadata": {},
   "outputs": [],
   "source": [
    "from sklearn.decomposition import PCA"
   ]
  },
  {
   "cell_type": "code",
   "execution_count": 20,
   "metadata": {},
   "outputs": [
    {
     "data": {
      "text/plain": [
       "PCA()"
      ]
     },
     "execution_count": 20,
     "metadata": {},
     "output_type": "execute_result"
    }
   ],
   "source": [
    "pca = PCA()\n",
    "pca.fit(A)"
   ]
  },
  {
   "cell_type": "code",
   "execution_count": 21,
   "metadata": {},
   "outputs": [
    {
     "data": {
      "text/plain": [
       "array([0.7371282 , 0.07605298, 0.02703356, 0.0261325 , 0.02432035,\n",
       "       0.02023653, 0.01928565, 0.0175115 , 0.01739516, 0.01379243,\n",
       "       0.01296153, 0.00814961])"
      ]
     },
     "execution_count": 21,
     "metadata": {},
     "output_type": "execute_result"
    }
   ],
   "source": [
    "pca.explained_variance_ratio_"
   ]
  },
  {
   "cell_type": "markdown",
   "metadata": {},
   "source": [
    "**2**. 20 points\n",
    "\n",
    "- Load the matrix in `Q2.npy` - this consists of two columns representing the x and y coordinates of 10 points\n",
    "- Find the equation of the circle that best fits these points (15 points)\n",
    "- Plot the points and fitted circle (5 points)\n",
    "\n",
    "Hint: You need to estimate the center of the circle and its radius."
   ]
  },
  {
   "cell_type": "code",
   "execution_count": 22,
   "metadata": {},
   "outputs": [],
   "source": [
    "X = np.load('Q2.npy')"
   ]
  },
  {
   "cell_type": "code",
   "execution_count": 23,
   "metadata": {},
   "outputs": [],
   "source": [
    "%matplotlib inline\n",
    "import matplotlib.pyplot as plt"
   ]
  },
  {
   "cell_type": "markdown",
   "metadata": {},
   "source": [
    "- Find the equation of the circle that best fits these points (15 points)\n",
    "\n"
   ]
  },
  {
   "cell_type": "code",
   "execution_count": 24,
   "metadata": {},
   "outputs": [],
   "source": [
    "A = np.c_[2*X, np.ones(X.shape[0])]"
   ]
  },
  {
   "cell_type": "code",
   "execution_count": 25,
   "metadata": {},
   "outputs": [],
   "source": [
    "sol = la.lstsq(A, np.sum(X**2, axis=1))[0]"
   ]
  },
  {
   "cell_type": "code",
   "execution_count": 26,
   "metadata": {},
   "outputs": [],
   "source": [
    "a, b, z = sol"
   ]
  },
  {
   "cell_type": "code",
   "execution_count": 27,
   "metadata": {},
   "outputs": [],
   "source": [
    "r = np.sqrt(z - a**2 - b**2)"
   ]
  },
  {
   "cell_type": "code",
   "execution_count": 28,
   "metadata": {},
   "outputs": [],
   "source": [
    "x = np.linspace(a-r, a+r, 20)\n",
    "y = np.sqrt(np.abs(r**2 - x**2))"
   ]
  },
  {
   "cell_type": "code",
   "execution_count": 29,
   "metadata": {},
   "outputs": [
    {
     "data": {
      "text/plain": [
       "(2.0069277559382903, 0.023593590975478498, -0.03527051891705024)"
      ]
     },
     "execution_count": 29,
     "metadata": {},
     "output_type": "execute_result"
    }
   ],
   "source": [
    "r, a, b"
   ]
  },
  {
   "cell_type": "markdown",
   "metadata": {},
   "source": [
    "- Plot the points and fitted circle (5 points)\n",
    "\n"
   ]
  },
  {
   "cell_type": "code",
   "execution_count": 30,
   "metadata": {},
   "outputs": [
    {
     "data": {
      "image/png": "[encoded data removed]",
      "text/plain": [
       "<Figure size 432x288 with 1 Axes>"
      ]
     },
     "metadata": {
      "needs_background": "light"
     },
     "output_type": "display_data"
    }
   ],
   "source": [
    "plt.scatter(X[:,0], X[:,1])\n",
    "c = plt.Circle([a,b], r, fill=False)\n",
    "plt.gca().add_artist(c, )\n",
    "plt.axis('square')\n",
    "pass"
   ]
  },
  {
   "cell_type": "markdown",
   "metadata": {},
   "source": [
    "**3**. 20 points\n",
    "\n",
    "The figure below shows the current population of Durham, Chapel Hill and Raleigh. Arrows show fractions that move between cities each year.\n",
    "\n",
    "- What are the population sizes of the 3 cities after 3 years have passed? (5 points)\n",
    "- Find the steady state population of the 3 cities by solving a linear system. (15 points)\n",
    "\n",
    "Assume no births, deaths or any other fluxes other than those shown.\n",
    "\n",
    "![img](Q3.png)\n",
    "\n",
    "\n",
    "M = np.array([\n",
    "    [0.9, 0.05, 0.05],\n",
    "    [0.2, 0.5, 0.3],\n",
    "    [0, 0.2, 0.8]\n",
    "]).T\n",
    "\n",
    "M"
   ]
  },
  {
   "cell_type": "code",
   "execution_count": 31,
   "metadata": {},
   "outputs": [
    {
     "data": {
      "text/plain": [
       "array([[0.9 , 0.2 , 0.  ],\n",
       "       [0.05, 0.5 , 0.2 ],\n",
       "       [0.05, 0.3 , 0.8 ]])"
      ]
     },
     "execution_count": 31,
     "metadata": {},
     "output_type": "execute_result"
    }
   ],
   "source": [
    "M = np.array([ [0.9, 0.05, 0.05], [0.2, 0.5, 0.3], [0, 0.2, 0.8] ]).T\n",
    "\n",
    "M"
   ]
  },
  {
   "cell_type": "code",
   "execution_count": 32,
   "metadata": {},
   "outputs": [],
   "source": [
    "x = np.array([300000, 80000, 500000])[:, None]"
   ]
  },
  {
   "cell_type": "markdown",
   "metadata": {},
   "source": [
    "- What are the population sizes of the 3 cities after 3 years have passed? (5 points)\n",
    "\n"
   ]
  },
  {
   "cell_type": "code",
   "execution_count": 33,
   "metadata": {},
   "outputs": [
    {
     "data": {
      "text/plain": [
       "array([[295480],\n",
       "       [186620],\n",
       "       [397900]])"
      ]
     },
     "execution_count": 33,
     "metadata": {},
     "output_type": "execute_result"
    }
   ],
   "source": [
    "(np.linalg.matrix_power(M, 3) @ x).astype('int')"
   ]
  },
  {
   "cell_type": "code",
   "execution_count": 34,
   "metadata": {},
   "outputs": [
    {
     "data": {
      "text/plain": [
       "880000"
      ]
     },
     "execution_count": 34,
     "metadata": {},
     "output_type": "execute_result"
    }
   ],
   "source": [
    "np.array([[295480],\n",
    "       [186620],\n",
    "       [397900]]).sum()"
   ]
  },
  {
   "cell_type": "markdown",
   "metadata": {},
   "source": [
    "- Find the steady state population of the 3 cities by solving a linear system. (15 points)\n",
    "\n",
    "Note\n",
    "\n",
    "- You are asked for the steady state *population*\n",
    "- A check for both cases is that total population does not change"
   ]
  },
  {
   "cell_type": "code",
   "execution_count": 35,
   "metadata": {},
   "outputs": [
    {
     "data": {
      "text/plain": [
       "array([[-0.1 ,  0.2 ,  0.  ],\n",
       "       [ 0.05, -0.5 ,  0.2 ],\n",
       "       [ 1.  ,  1.  ,  1.  ]])"
      ]
     },
     "execution_count": 35,
     "metadata": {},
     "output_type": "execute_result"
    }
   ],
   "source": [
    "T = M - np.eye(3)\n",
    "T[-1,:] = [1,1,1]\n",
    "T"
   ]
  },
  {
   "cell_type": "code",
   "execution_count": 36,
   "metadata": {},
   "outputs": [],
   "source": [
    "p = la.solve(T, np.array([0,0,1]))"
   ]
  },
  {
   "cell_type": "code",
   "execution_count": 37,
   "metadata": {},
   "outputs": [
    {
     "data": {
      "text/plain": [
       "array([352000., 176000., 352000.])"
      ]
     },
     "execution_count": 37,
     "metadata": {},
     "output_type": "execute_result"
    }
   ],
   "source": [
    "p * x.sum()"
   ]
  },
  {
   "cell_type": "code",
   "execution_count": 38,
   "metadata": {},
   "outputs": [
    {
     "data": {
      "text/plain": [
       "array([0.4, 0.2, 0.4])"
      ]
     },
     "execution_count": 38,
     "metadata": {},
     "output_type": "execute_result"
    }
   ],
   "source": [
    "p"
   ]
  },
  {
   "cell_type": "code",
   "execution_count": 39,
   "metadata": {},
   "outputs": [
    {
     "data": {
      "text/plain": [
       "array([0.4, 0.2, 0.4])"
      ]
     },
     "execution_count": 39,
     "metadata": {},
     "output_type": "execute_result"
    }
   ],
   "source": [
    "M @ p"
   ]
  },
  {
   "cell_type": "markdown",
   "metadata": {},
   "source": [
    "**4**. 20 points\n",
    "\n",
    "Consider the following matrix\n",
    "\n",
    "```\n",
    "A = np.array([\n",
    "    [5,2],\n",
    "    [2,5]\n",
    "])\n",
    "```\n",
    "\n",
    "- Find the characteristic polynomial of the matrix `A` (5 points)\n",
    "- Find the eigenvalues using the companion matrix method `C` (5 points)\n",
    "- Find a matrix `P` such that $A = P C P^{-1}$ (10 points)"
   ]
  },
  {
   "cell_type": "code",
   "execution_count": 40,
   "metadata": {},
   "outputs": [],
   "source": [
    "A = np.array([\n",
    "    [5,2],\n",
    "    [2,5]\n",
    "])"
   ]
  },
  {
   "cell_type": "markdown",
   "metadata": {},
   "source": [
    "- Find the characteristic polynomial of the matrix `A` (5 points)\n",
    "\n"
   ]
  },
  {
   "cell_type": "code",
   "execution_count": 41,
   "metadata": {},
   "outputs": [],
   "source": [
    "p = np.poly1d([1, -10, 21])"
   ]
  },
  {
   "cell_type": "code",
   "execution_count": 42,
   "metadata": {},
   "outputs": [
    {
     "data": {
      "text/plain": [
       "array([7., 3.])"
      ]
     },
     "execution_count": 42,
     "metadata": {},
     "output_type": "execute_result"
    }
   ],
   "source": [
    "np.roots(p)"
   ]
  },
  {
   "cell_type": "markdown",
   "metadata": {},
   "source": [
    "- Find the eigenvalues using the companion matrix method `C` (5 points)"
   ]
  },
  {
   "cell_type": "code",
   "execution_count": 43,
   "metadata": {},
   "outputs": [],
   "source": [
    "C = np.array([\n",
    "    [10, -21],\n",
    "    [1, 0]\n",
    "])"
   ]
  },
  {
   "cell_type": "code",
   "execution_count": 44,
   "metadata": {},
   "outputs": [
    {
     "data": {
      "text/plain": [
       "array([7., 3.])"
      ]
     },
     "execution_count": 44,
     "metadata": {},
     "output_type": "execute_result"
    }
   ],
   "source": [
    "np.linalg.eigvals(C)"
   ]
  },
  {
   "cell_type": "markdown",
   "metadata": {},
   "source": [
    "- Find a matrix `P` such that $A = P C P^{-1}$ (10 points)\n",
    "\n",
    "Note:\n",
    "\n",
    "Use $A = V \\Lambda V^{-}$ and $C = Q \\Lambda Q^{-1}$ to get $A = V Q^{-1} C Q V^{-1}$ - i.e. $P = V Q^{-1}$"
   ]
  },
  {
   "cell_type": "code",
   "execution_count": 45,
   "metadata": {},
   "outputs": [],
   "source": [
    "e1, P1 = np.linalg.eigh(A)\n",
    "idx = np.argsort(e1)\n",
    "e1 = e1[idx]\n",
    "P1 = P1[:, idx]"
   ]
  },
  {
   "cell_type": "code",
   "execution_count": 46,
   "metadata": {},
   "outputs": [],
   "source": [
    "e2, P2 = np.linalg.eig(C)\n",
    "idx = np.argsort(e2)\n",
    "e2 = e2[idx]\n",
    "P2 = P2[:, idx]"
   ]
  },
  {
   "cell_type": "code",
   "execution_count": 47,
   "metadata": {},
   "outputs": [
    {
     "data": {
      "text/plain": [
       "array([[ 1.80901699, -7.66311896],\n",
       "       [ 0.69098301,  0.16311896]])"
      ]
     },
     "execution_count": 47,
     "metadata": {},
     "output_type": "execute_result"
    }
   ],
   "source": [
    "P = P1 @ np.linalg.inv(P2) \n",
    "P"
   ]
  },
  {
   "cell_type": "markdown",
   "metadata": {},
   "source": [
    "Check"
   ]
  },
  {
   "cell_type": "code",
   "execution_count": 48,
   "metadata": {},
   "outputs": [
    {
     "data": {
      "text/plain": [
       "array([[5., 2.],\n",
       "       [2., 5.]])"
      ]
     },
     "execution_count": 48,
     "metadata": {},
     "output_type": "execute_result"
    }
   ],
   "source": [
    "P @ C @ np.linalg.inv(P)"
   ]
  },
  {
   "cell_type": "markdown",
   "metadata": {},
   "source": [
    "**5**. 20 points\n",
    "\n",
    "The file `Q5.npy` contains the x and y coordinates in cols 1 and 2 respectively. \n",
    "\n",
    "- Find a cubic polynomial model to fit the data using the normal equations (5 points)\n",
    "- Now solve using mini-batch gradient descent Use a learning rate of 0.0001. Start with a guess of a=1, b=1, c=1, d=1 for the model $ax^3 + bx^2 + cx + d$, and report $(a, b, c, d)$ after 1,000 epochs with a batch size of 5. (15 points)\n",
    "\n",
    "For simplicity, you don't need to randomize the order when choosing data for each batch."
   ]
  },
  {
   "cell_type": "code",
   "execution_count": 55,
   "metadata": {},
   "outputs": [],
   "source": [
    "x, y = np.load('Q5.npy').T"
   ]
  },
  {
   "cell_type": "code",
   "execution_count": 56,
   "metadata": {},
   "outputs": [],
   "source": [
    "y = y[:, None]"
   ]
  },
  {
   "cell_type": "markdown",
   "metadata": {},
   "source": [
    "- Find a cubic polynomial model to fit the data using the normal equations (5 points)\n",
    "\n"
   ]
  },
  {
   "cell_type": "code",
   "execution_count": 57,
   "metadata": {},
   "outputs": [],
   "source": [
    "X = np.c_[x**3, x**2, x, np.ones_like(x)]"
   ]
  },
  {
   "cell_type": "code",
   "execution_count": 58,
   "metadata": {},
   "outputs": [
    {
     "data": {
      "text/plain": [
       "array([[ 0.99809019],\n",
       "       [-0.54438689],\n",
       "       [-1.02188927],\n",
       "       [-1.99235962]])"
      ]
     },
     "execution_count": 58,
     "metadata": {},
     "output_type": "execute_result"
    }
   ],
   "source": [
    "np.linalg.solve(X.T@X, X.T@y)"
   ]
  },
  {
   "cell_type": "markdown",
   "metadata": {},
   "source": [
    "- Now solve using mini-batch gradient descent Use a learning rate of 0.0001. Start with a guess of a=1, b=1, c=1, d=1 for the model $ax^3 + bx^2 + cx + d$, and report $(a, b, c, d)$ after 1,000 epochs with a batch size of 5. (15 points)\n",
    "\n",
    "Note\n",
    "\n",
    "- Each epoch has to run through all mini-batch samples\n",
    "- Use vanilla gradient descent not RMSProp or momentum"
   ]
  },
  {
   "cell_type": "code",
   "execution_count": 59,
   "metadata": {},
   "outputs": [],
   "source": [
    "def f(beta, X):\n",
    "    \"\"\"....\"\"\"\n",
    "    \n",
    "    return X@beta"
   ]
  },
  {
   "cell_type": "code",
   "execution_count": 60,
   "metadata": {},
   "outputs": [],
   "source": [
    "def grad(beta, X, y):\n",
    "    \"\"\"Gradient of function.\"\"\"\n",
    "    \n",
    "    return X.T @ X @ beta - X.T @ y"
   ]
  },
  {
   "cell_type": "code",
   "execution_count": 61,
   "metadata": {},
   "outputs": [],
   "source": [
    "def gd(beta, X, y, f, grad, alpha=0.0001, epochs=1000, batch_size=5):\n",
    "    \"\"\"Gradient descent.\"\"\"\n",
    "    \n",
    "    n = X.shape[0]\n",
    "    for i in range(epochs):\n",
    "        for j in range(n // batch_size):\n",
    "            Xb = X[j*batch_size:(j+1)*batch_size, :]\n",
    "            yb = y[j*batch_size:(j+1)*batch_size, :]\n",
    "            beta = beta - alpha * grad(beta, Xb, yb)\n",
    "    return beta"
   ]
  },
  {
   "cell_type": "code",
   "execution_count": 62,
   "metadata": {},
   "outputs": [],
   "source": [
    "β0 = np.array([1,1,1,1])[:, None]"
   ]
  },
  {
   "cell_type": "code",
   "execution_count": 63,
   "metadata": {},
   "outputs": [
    {
     "data": {
      "text/plain": [
       "((4, 1), (100, 4), (100, 1))"
      ]
     },
     "execution_count": 63,
     "metadata": {},
     "output_type": "execute_result"
    }
   ],
   "source": [
    "β0.shape, X.shape, y.shape"
   ]
  },
  {
   "cell_type": "code",
   "execution_count": 64,
   "metadata": {},
   "outputs": [
    {
     "data": {
      "text/plain": [
       "array([[ 0.99847178],\n",
       "       [-0.54891709],\n",
       "       [-1.00882508],\n",
       "       [-1.96375165]])"
      ]
     },
     "execution_count": 64,
     "metadata": {},
     "output_type": "execute_result"
    }
   ],
   "source": [
    "β = gd(β0, X, y, f, grad)\n",
    "β"
   ]
  },
  {
   "cell_type": "code",
   "execution_count": 65,
   "metadata": {},
   "outputs": [
    {
     "data": {
      "text/plain": [
       "array([[-0.00877348],\n",
       "       [-1.1121803 ],\n",
       "       [-1.67392435],\n",
       "       [ 0.57183635],\n",
       "       [ 0.15382327],\n",
       "       [ 0.72427875],\n",
       "       [-0.16675941],\n",
       "       [ 0.88598876],\n",
       "       [-1.01584996],\n",
       "       [ 0.86305452],\n",
       "       [ 0.13086311],\n",
       "       [ 0.88300682],\n",
       "       [-0.01266988],\n",
       "       [ 0.17138606],\n",
       "       [ 0.03574326],\n",
       "       [-0.12556014],\n",
       "       [-0.83891503],\n",
       "       [ 1.58153972],\n",
       "       [-1.19358259],\n",
       "       [-0.85813904],\n",
       "       [ 2.06970168],\n",
       "       [ 0.3164233 ],\n",
       "       [-1.35844054],\n",
       "       [ 0.19235789],\n",
       "       [ 0.58768451],\n",
       "       [-0.93092231],\n",
       "       [ 1.21532282],\n",
       "       [-1.46526079],\n",
       "       [-1.28435645],\n",
       "       [-0.34830367],\n",
       "       [ 1.17966961],\n",
       "       [-1.07408398],\n",
       "       [ 0.26738416],\n",
       "       [-0.54740982],\n",
       "       [ 0.69428071],\n",
       "       [ 0.54800766],\n",
       "       [ 2.69114997],\n",
       "       [ 0.55025764],\n",
       "       [-0.84743966],\n",
       "       [ 1.52349636],\n",
       "       [-0.4614905 ],\n",
       "       [-1.33493576],\n",
       "       [-0.23827781],\n",
       "       [ 0.40965181],\n",
       "       [ 0.34297172],\n",
       "       [-1.76452235],\n",
       "       [-1.58533683],\n",
       "       [-0.16243647],\n",
       "       [-0.36626125],\n",
       "       [-1.05943183],\n",
       "       [ 0.70399694],\n",
       "       [-0.59861997],\n",
       "       [ 0.48510974],\n",
       "       [ 1.32054278],\n",
       "       [-0.65112977],\n",
       "       [ 0.37671004],\n",
       "       [-0.67618631],\n",
       "       [ 1.71979081],\n",
       "       [-0.76893918],\n",
       "       [ 0.00894748],\n",
       "       [ 0.88854364],\n",
       "       [ 0.14250061],\n",
       "       [ 0.79617578],\n",
       "       [ 1.84531792],\n",
       "       [-0.31126079],\n",
       "       [-0.44040004],\n",
       "       [-0.18720733],\n",
       "       [ 0.16952037],\n",
       "       [-1.4073707 ],\n",
       "       [ 0.37265714],\n",
       "       [-0.33266453],\n",
       "       [ 0.12584636],\n",
       "       [-0.03457054],\n",
       "       [-1.00752022],\n",
       "       [-0.93259383],\n",
       "       [-0.16843814],\n",
       "       [ 0.3520539 ],\n",
       "       [ 1.33322348],\n",
       "       [-0.06922112],\n",
       "       [-0.91370181],\n",
       "       [ 0.77762527],\n",
       "       [-0.05460536],\n",
       "       [-0.35672001],\n",
       "       [ 0.40392423],\n",
       "       [ 1.19137324],\n",
       "       [ 0.19013188],\n",
       "       [ 0.06516086],\n",
       "       [ 0.90050069],\n",
       "       [ 0.47809655],\n",
       "       [-0.69013475],\n",
       "       [ 0.48095436],\n",
       "       [ 1.47110997],\n",
       "       [-1.42060686],\n",
       "       [ 0.47971692],\n",
       "       [-0.41801897],\n",
       "       [-0.60358346],\n",
       "       [ 0.02814648],\n",
       "       [-0.54721626],\n",
       "       [-0.13577827],\n",
       "       [ 0.33847617]])"
      ]
     },
     "execution_count": 65,
     "metadata": {},
     "output_type": "execute_result"
    }
   ],
   "source": [
    "X @ β - y"
   ]
  },
  {
   "cell_type": "code",
   "execution_count": null,
   "metadata": {},
   "outputs": [],
   "source": []
  }
 ],
 "metadata": {
  "kernelspec": {
   "display_name": "Python 3",
   "language": "python",
   "name": "python3"
  },
  "language_info": {
   "codemirror_mode": {
    "name": "ipython",
    "version": 3
   },
   "file_extension": ".py",
   "mimetype": "text/x-python",
   "name": "python",
   "nbconvert_exporter": "python",
   "pygments_lexer": "ipython3",
   "version": "3.6.9"
  }
 },
 "nbformat": 4,
 "nbformat_minor": 2
}
