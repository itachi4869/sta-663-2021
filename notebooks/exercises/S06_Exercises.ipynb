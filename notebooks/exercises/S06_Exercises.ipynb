{
 "cells": [
  {
   "cell_type": "markdown",
   "metadata": {},
   "source": [
    "**1**.\n",
    "\n",
    "Rewrite the following code using map, filter and reduce."
   ]
  },
  {
   "cell_type": "code",
   "execution_count": 1,
   "metadata": {},
   "outputs": [],
   "source": [
    "xs = []\n",
    "for x in range(10):\n",
    "    if x % 3:\n",
    "        xs.append(x**3)\n",
    "sum(xs)"
   ]
  },
  {
   "cell_type": "code",
   "execution_count": 6,
   "metadata": {},
   "outputs": [
    {
     "data": {
      "text/plain": [
       "1053"
      ]
     },
     "execution_count": 6,
     "metadata": {},
     "output_type": "execute_result"
    }
   ],
   "source": [
    "from functools import reduce\n",
    "reduce(lambda x, y: x + y, map(lambda x: x ** 3, filter(lambda x: x % 3, range(10))))\n",
    "\n",
    "\n"
   ]
  },
  {
   "cell_type": "markdown",
   "metadata": {},
   "source": [
    "**2**.\n",
    "\n",
    "Euclid's algorithm to find the greatest common divisor (GCD) of two numbers $a$ and $b$:\n",
    "\n",
    "If b is 0 then the GCD is a, otherwise the GCD is the GCD of $b$ and $a \\mod b$. Implement the `gcd` function and use it to find the least common multiple of 741 and 91."
   ]
  },
  {
   "cell_type": "code",
   "execution_count": 10,
   "metadata": {},
   "outputs": [
    {
     "data": {
      "text/plain": [
       "5187"
      ]
     },
     "execution_count": 10,
     "metadata": {},
     "output_type": "execute_result"
    }
   ],
   "source": [
    "def GCD(a, b):\n",
    "    if(b == 0):\n",
    "        return a\n",
    "    else:\n",
    "        return GCD(b, a % b)\n",
    "\n",
    "741 * 91 // GCD(741, 91)"
   ]
  },
  {
   "cell_type": "markdown",
   "metadata": {},
   "source": [
    "**3**. \n",
    "\n",
    "The Fibonacci sequence is 1,1,2,3,5,8,13,.... where each number is the sum of the two preceding it. \n",
    "\n",
    "- Write a recursive function to calculate the nth Fibonacci number \n",
    "- Write a decorator (i.e. not using `lru_cache` or similar) that caches previously seen values and apply it to the Fibonacci function. \n",
    "- Add a print statement to see how many function calls are made for $n=10$ for the plain and decorated versions"
   ]
  },
  {
   "cell_type": "code",
   "execution_count": 17,
   "metadata": {},
   "outputs": [
    {
     "name": "stdout",
     "output_type": "stream",
     "text": [
      "fib(10),fib(9),fib(8),fib(7),fib(6),fib(5),fib(4),fib(3),fib(2),fib(1),fib(2),fib(3),fib(4),fib(5),fib(6),fib(7),fib(8),"
     ]
    },
    {
     "data": {
      "text/plain": [
       "55"
      ]
     },
     "execution_count": 17,
     "metadata": {},
     "output_type": "execute_result"
    }
   ],
   "source": [
    "g = dict()\n",
    "def Fib(n):\n",
    "    print(f'fib({n})', end=\",\")\n",
    "    if n == 1 or n == 2:\n",
    "        return 1\n",
    "    else:\n",
    "        if n not in g:\n",
    "            g[n] = Fib(n - 1) + Fib(n - 2)\n",
    "            return g[n]\n",
    "        else:\n",
    "            return g[n]\n",
    "\n",
    "Fib(10)\n"
   ]
  },
  {
   "cell_type": "markdown",
   "metadata": {},
   "source": [
    "**4**. \n",
    "\n",
    "Write a function that flattens an arbitrarily nested list. For this exercise, you can assume that it will always be a nested list that is given. Use this function to flatten `xs = [1,[2,3],[4,[5,[6]]]]` into a list.\n",
    "\n",
    "Hint: use `yield` recursively."
   ]
  },
  {
   "cell_type": "code",
   "execution_count": 21,
   "metadata": {},
   "outputs": [
    {
     "data": {
      "text/plain": [
       "[1, 2, 3, 4, 5, 6]"
      ]
     },
     "execution_count": 21,
     "metadata": {},
     "output_type": "execute_result"
    }
   ],
   "source": [
    "def flatten(xs):\n",
    "    for x in xs:\n",
    "        if isinstance(x, list):\n",
    "            yield from flatten(x)\n",
    "        else:\n",
    "            yield x\n",
    "\n",
    "xs = [1,[2,3],[4,[5,[6]]]]\n",
    "list(flatten(xs))\n"
   ]
  },
  {
   "cell_type": "code",
   "execution_count": null,
   "metadata": {},
   "outputs": [],
   "source": []
  }
 ],
 "metadata": {
  "kernelspec": {
   "display_name": "Python 3",
   "language": "python",
   "name": "python3"
  },
  "language_info": {
   "codemirror_mode": {
    "name": "ipython",
    "version": 3
   },
   "file_extension": ".py",
   "mimetype": "text/x-python",
   "name": "python",
   "nbconvert_exporter": "python",
   "pygments_lexer": "ipython3",
   "version": "3.6.8"
  }
 },
 "nbformat": 4,
 "nbformat_minor": 4
}
