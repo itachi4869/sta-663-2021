{
 "cells": [
  {
   "cell_type": "code",
   "execution_count": 5,
   "metadata": {},
   "outputs": [],
   "source": [
    "import numpy as np"
   ]
  },
  {
   "cell_type": "code",
   "execution_count": 6,
   "metadata": {},
   "outputs": [],
   "source": [
    "np.set_printoptions(precision=2)"
   ]
  },
  {
   "cell_type": "markdown",
   "metadata": {},
   "source": [
    "**1**.\n",
    "\n",
    "A palindromic number reads the same both ways. The largest palindrome made from the product of two 2-digit numbers is 9009 = 91 × 99.\n",
    "\n",
    "Find the largest palindrome made from the product of two 3-digit numbers.\n",
    "\n",
    "(Source: Project Euler Problem 4)"
   ]
  },
  {
   "cell_type": "code",
   "execution_count": 7,
   "metadata": {},
   "outputs": [
    {
     "name": "stdout",
     "output_type": "stream",
     "text": [
      "906609\n"
     ]
    }
   ],
   "source": [
    "p_num = 0\n",
    "for i in range(100, 1000):\n",
    "    for j in range(100, 1000):\n",
    "        num = i * j\n",
    "        if(str(num) == str(num)[::-1]):\n",
    "            p_num = max(p_num, num)\n",
    "print(p_num)\n"
   ]
  },
  {
   "cell_type": "markdown",
   "metadata": {},
   "source": [
    "**2**.\n",
    "\n",
    "Construc the following matrix\n",
    "\n",
    "```python\n",
    "array([[18, 13, 10,  9, 10, 13, 18],\n",
    "       [13,  8,  5,  4,  5,  8, 13],\n",
    "       [10,  5,  2,  1,  2,  5, 10],\n",
    "       [ 9,  4,  1,  0,  1,  4,  9],\n",
    "       [10,  5,  2,  1,  2,  5, 10],\n",
    "       [13,  8,  5,  4,  5,  8, 13],\n",
    "       [18, 13, 10,  9, 10, 13, 18]])\n",
    "```"
   ]
  },
  {
   "cell_type": "code",
   "execution_count": 8,
   "metadata": {},
   "outputs": [
    {
     "data": {
      "text/plain": [
       "array([[18, 13, 10,  9, 10, 13, 18],\n",
       "       [13,  8,  5,  4,  5,  8, 13],\n",
       "       [10,  5,  2,  1,  2,  5, 10],\n",
       "       [ 9,  4,  1,  0,  1,  4,  9],\n",
       "       [10,  5,  2,  1,  2,  5, 10],\n",
       "       [13,  8,  5,  4,  5,  8, 13],\n",
       "       [18, 13, 10,  9, 10, 13, 18]])"
      ]
     },
     "execution_count": 8,
     "metadata": {},
     "output_type": "execute_result"
    }
   ],
   "source": [
    "np.fromfunction(lambda i, j: (i - 3)**2 + (j - 3)**2, (7, 7), dtype = 'int')\n",
    "\n",
    "\n"
   ]
  },
  {
   "cell_type": "markdown",
   "metadata": {},
   "source": [
    "**3**.\n",
    "\n",
    "Using numpy and string manipulation, create a DNA string with 150 bases that have the following probabilities: (A, 0.5), (C, 0.2), (T, 0.2), (G, 0.1). Find the most common triplet of bases in among sliding windows of this DNA string. For example, a sliding window of size 3 for GATTACA would be GAT, ATT, TTA, TAC, ..."
   ]
  },
  {
   "cell_type": "code",
   "execution_count": 21,
   "metadata": {},
   "outputs": [
    {
     "data": {
      "text/plain": [
       "[('AAA', 26)]"
      ]
     },
     "execution_count": 21,
     "metadata": {},
     "output_type": "execute_result"
    }
   ],
   "source": [
    "dna = np.random.choice(list('ACTG'), size = 150, p=[0.5,0.2,0.2,0.1])\n",
    "#triplets = list(map(lambda x: ''.join(x), np.c_(dna[:-2], dna[1:-1], dna[2:])))\n",
    "triplets = [''.join(x) for x in zip(dna[:-2], dna[1:-1], dna[2:])]\n",
    "\n",
    "from collections import Counter\n",
    "Counter(triplets).most_common(1)\n"
   ]
  },
  {
   "cell_type": "markdown",
   "metadata": {},
   "source": [
    "**4**.\n",
    "\n",
    "- Using only base Python and numpy, create a pairwise distance matrix of the two sets of *row* vectors given\n",
    "- Scale the distances so that each *row* has mean zero and standard deviation 1\n",
    "\n",
    "Use Euclidean distance."
   ]
  },
  {
   "cell_type": "code",
   "execution_count": 23,
   "metadata": {},
   "outputs": [],
   "source": [
    "np.random.seed(123)\n",
    "xs = np.random.randint(1,10, (10, 5))\n",
    "ys = np.random.randint(1,10, (8, 5))"
   ]
  },
  {
   "cell_type": "code",
   "execution_count": 25,
   "metadata": {},
   "outputs": [
    {
     "name": "stdout",
     "output_type": "stream",
     "text": [
      "[7 2 1 2 1]\n",
      "[2 2 4 6 1]\n"
     ]
    }
   ],
   "source": [
    "print(xs[1])\n",
    "print(ys[2])"
   ]
  },
  {
   "cell_type": "code",
   "execution_count": 33,
   "metadata": {},
   "outputs": [
    {
     "data": {
      "text/plain": [
       "array([[ 9.9 ,  3.  ,  6.  ,  6.4 ,  7.35,  9.06,  6.78,  4.8 ],\n",
       "       [10.1 ,  9.64,  7.07,  7.28,  7.35, 12.88,  9.8 ,  5.2 ],\n",
       "       [11.62,  5.1 ,  5.57,  9.49,  7.94, 11.09,  7.68,  3.46],\n",
       "       [10.25,  4.24,  5.74,  4.24,  7.94,  9.11,  6.08,  5.83],\n",
       "       [ 2.65,  9.7 , 10.54,  9.7 ,  5.2 ,  5.57,  8.43,  9.17],\n",
       "       [ 6.48,  7.94,  8.6 , 10.91,  6.  ,  5.29,  6.93,  7.94],\n",
       "       [ 9.95,  2.83,  5.92,  8.37,  6.4 ,  7.94,  4.58,  4.  ],\n",
       "       [ 9.27,  6.86,  9.27,  3.87,  6.63, 10.77,  8.49,  5.92],\n",
       "       [ 6.  ,  7.81,  8.  ,  4.36,  6.32,  7.62,  7.62,  7.68],\n",
       "       [ 9.17,  7.42,  8.  ,  6.56,  9.27,  8.6 ,  8.72,  9.11]])"
      ]
     },
     "execution_count": 33,
     "metadata": {},
     "output_type": "execute_result"
    }
   ],
   "source": [
    "nr = xs.shape[0]\n",
    "nc = ys.shape[0]\n",
    "\n",
    "dist = np.zeros([nr, nc])\n",
    "\n",
    "for i in range(nr):\n",
    "    for j in range(nc):\n",
    "        dist[i, j] = np.sqrt(np.sum((xs[i] - ys[j])**2))\n",
    "\n",
    "dist"
   ]
  },
  {
   "cell_type": "code",
   "execution_count": 39,
   "metadata": {},
   "outputs": [
    {
     "data": {
      "text/plain": [
       "array([[ 1.57, -1.77, -0.32, -0.12,  0.33,  1.16,  0.06, -0.9 ],\n",
       "       [ 0.64,  0.44, -0.71, -0.62, -0.59,  1.88,  0.5 , -1.55],\n",
       "       [ 1.42, -0.97, -0.8 ,  0.64,  0.07,  1.23, -0.02, -1.57],\n",
       "       [ 1.73, -1.18, -0.45, -1.18,  0.61,  1.18, -0.29, -0.41],\n",
       "       [-1.9 ,  0.79,  1.11,  0.79, -0.92, -0.78,  0.31,  0.59],\n",
       "       [-0.63,  0.26,  0.66,  2.06, -0.92, -1.35, -0.35,  0.26],\n",
       "       [ 1.64, -1.52, -0.15,  0.94,  0.07,  0.75, -0.74, -1.  ],\n",
       "       [ 0.79, -0.37,  0.79, -1.81, -0.48,  1.51,  0.41, -0.83],\n",
       "       [-0.78,  0.75,  0.91, -2.16, -0.51,  0.58,  0.58,  0.64],\n",
       "       [ 0.9 , -1.04, -0.39, -1.99,  1.02,  0.27,  0.4 ,  0.84]])"
      ]
     },
     "execution_count": 39,
     "metadata": {},
     "output_type": "execute_result"
    }
   ],
   "source": [
    "(dist - np.mean(dist, axis = 1)[:, np.newaxis]) / np.std(dist, axis = 1)[:, np.newaxis]"
   ]
  },
  {
   "cell_type": "code",
   "execution_count": null,
   "metadata": {},
   "outputs": [],
   "source": []
  }
 ],
 "metadata": {
  "kernelspec": {
   "display_name": "Python 3",
   "language": "python",
   "name": "python3"
  },
  "language_info": {
   "codemirror_mode": {
    "name": "ipython",
    "version": 3
   },
   "file_extension": ".py",
   "mimetype": "text/x-python",
   "name": "python",
   "nbconvert_exporter": "python",
   "pygments_lexer": "ipython3",
   "version": "3.6.8"
  }
 },
 "nbformat": 4,
 "nbformat_minor": 4
}
